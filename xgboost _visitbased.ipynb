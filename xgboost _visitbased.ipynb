{
 "cells": [
  {
   "cell_type": "code",
   "execution_count": null,
   "metadata": {
    "collapsed": false,
    "scrolled": true
   },
   "outputs": [],
   "source": [
    "import xgboost as xgb\n",
    "import numpy as np\n",
    "from sklearn.metrics import log_loss"
   ]
  },
  {
   "cell_type": "code",
   "execution_count": null,
   "metadata": {
    "collapsed": true
   },
   "outputs": [],
   "source": [
    "Dtrain = xgb.DMatrix('Dataset/xgboost_train_visit.buffer')\n",
    "Dtest = xgb.DMatrix('Dataset/xgboost_test_visit.buffer')"
   ]
  },
  {
   "cell_type": "code",
   "execution_count": null,
   "metadata": {
    "collapsed": true
   },
   "outputs": [],
   "source": [
    "Dtotal = xgb.DMatrix('Dataset/xgboost_total_visit.buffer')"
   ]
  },
  {
   "cell_type": "markdown",
   "metadata": {},
   "source": [
    "### 1. Training"
   ]
  },
  {
   "cell_type": "code",
   "execution_count": null,
   "metadata": {
    "collapsed": true
   },
   "outputs": [],
   "source": [
    "evallist = [(Dtrain, 'train'),(Dtest, 'eval')]"
   ]
  },
  {
   "cell_type": "code",
   "execution_count": null,
   "metadata": {
    "collapsed": true
   },
   "outputs": [],
   "source": [
    "### change params here\n",
    "import time\n",
    "print(\"====================================\")\n",
    "print(\"model starts\")\n",
    "start = time.time()\n",
    "model = xgb.train(params=params, \n",
    "    dtrain=Dtotal, \n",
    "    num_boost_round=100,  \n",
    "    early_stopping_rounds=10, \n",
    "    evals=evallist)\n",
    "score = log_loss(Dtotal.get_label(), model.predict(Dtotal))\n",
    "end = time.time()\n",
    "print(\"Time pass: \", end-start)\n",
    "print(\"Parameters: \",params)\n",
    "print(\"Score: \", score)"
   ]
  },
  {
   "cell_type": "markdown",
   "metadata": {},
   "source": [
    "### 2. Final model"
   ]
  },
  {
   "cell_type": "code",
   "execution_count": null,
   "metadata": {
    "collapsed": true
   },
   "outputs": [],
   "source": [
    "params = {'eta': 0.35, 'max_depth': 9, 'num_class': 38, 'eval_metric': 'mlogloss', 'objective': 'multi:softprob'}"
   ]
  },
  {
   "cell_type": "code",
   "execution_count": null,
   "metadata": {
    "collapsed": false,
    "scrolled": false
   },
   "outputs": [],
   "source": [
    "import time\n",
    "print(\"====================================\")\n",
    "print(\"model starts\")\n",
    "start = time.time()\n",
    "model = xgb.train(params=params, \n",
    "    dtrain=Dtotal, \n",
    "    num_boost_round=100,  \n",
    "    early_stopping_rounds=10, \n",
    "    evals=evallist)\n",
    "score = log_loss(Dtotal.get_label(), model.predict(Dtotal))\n",
    "end = time.time()\n",
    "print(\"Time pass: \", end-start)\n",
    "print(\"Parameters: \",params)\n",
    "print(\"Score: \", score)"
   ]
  },
  {
   "cell_type": "code",
   "execution_count": null,
   "metadata": {
    "collapsed": true
   },
   "outputs": [],
   "source": [
    "model.save_model(\"Dataset/visit_\" + str(params[\"eta\"])+\"_\" + str(params[\"max_depth\"])+\"_100rounds.model\")"
   ]
  },
  {
   "cell_type": "markdown",
   "metadata": {},
   "source": [
    "### 3. Predict test data"
   ]
  },
  {
   "cell_type": "code",
   "execution_count": null,
   "metadata": {
    "collapsed": true
   },
   "outputs": [],
   "source": [
    "model = xgb.Booster(model_file = \"Dataset/visit_gamma_0.35_9_0.05_20rounds.model\") "
   ]
  },
  {
   "cell_type": "code",
   "execution_count": null,
   "metadata": {
    "collapsed": true
   },
   "outputs": [],
   "source": [
    "real_test = xgb.DMatrix('Dataset/dtest_visit.buffer')"
   ]
  },
  {
   "cell_type": "code",
   "execution_count": null,
   "metadata": {
    "collapsed": true
   },
   "outputs": [],
   "source": [
    "predict_mat = model.predict(real_test)"
   ]
  },
  {
   "cell_type": "code",
   "execution_count": null,
   "metadata": {
    "collapsed": false
   },
   "outputs": [],
   "source": [
    "predict_mat.shape"
   ]
  },
  {
   "cell_type": "markdown",
   "metadata": {},
   "source": [
    "### 4. Submit Kaggle"
   ]
  },
  {
   "cell_type": "code",
   "execution_count": null,
   "metadata": {
    "collapsed": true
   },
   "outputs": [],
   "source": [
    "import pandas as pd"
   ]
  },
  {
   "cell_type": "code",
   "execution_count": null,
   "metadata": {
    "collapsed": true,
    "scrolled": true
   },
   "outputs": [],
   "source": [
    "test = pd.read_csv('Dataset/clean_test_data.csv')"
   ]
  },
  {
   "cell_type": "code",
   "execution_count": null,
   "metadata": {
    "collapsed": false
   },
   "outputs": [],
   "source": [
    "result = pd.DataFrame(predict_mat)\n",
    "dex = test.iloc[:,0]\n",
    "submurge = pd.concat([dex,result], axis = 1)\n",
    "print (submurge.shape)"
   ]
  },
  {
   "cell_type": "code",
   "execution_count": null,
   "metadata": {
    "collapsed": true
   },
   "outputs": [],
   "source": [
    "submurge.columns = ['VisitNumber', 'TripType_3','TripType_4','TripType_5','TripType_6','TripType_7',\\\n",
    "'TripType_8','TripType_9','TripType_12','TripType_14','TripType_15','TripType_18',\\\n",
    "'TripType_19','TripType_20','TripType_21','TripType_22','TripType_23','TripType_24',\\\n",
    "'TripType_25','TripType_26','TripType_27','TripType_28','TripType_29','TripType_30',\\\n",
    "'TripType_31','TripType_32','TripType_33','TripType_34','TripType_35','TripType_36',\\\n",
    "'TripType_37','TripType_38','TripType_39','TripType_40','TripType_41','TripType_42',\\\n",
    "'TripType_43','TripType_44','TripType_999']\n",
    "submurge[['VisitNumber']] = submurge[['VisitNumber']].astype(int)\n",
    "submurge.to_csv('Kaggle.csv', index = False, header=True)"
   ]
  }
 ],
 "metadata": {
  "anaconda-cloud": {},
  "kernelspec": {
   "display_name": "Python [default]",
   "language": "python",
   "name": "python3"
  },
  "language_info": {
   "codemirror_mode": {
    "name": "ipython",
    "version": 3
   },
   "file_extension": ".py",
   "mimetype": "text/x-python",
   "name": "python",
   "nbconvert_exporter": "python",
   "pygments_lexer": "ipython3",
   "version": "3.5.2"
  }
 },
 "nbformat": 4,
 "nbformat_minor": 1
}
