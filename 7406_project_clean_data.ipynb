{
 "cells": [
  {
   "cell_type": "code",
   "execution_count": null,
   "metadata": {
    "collapsed": true
   },
   "outputs": [],
   "source": [
    "import pandas as pd\n",
    "import numpy as np\n",
    "import scipy"
   ]
  },
  {
   "cell_type": "code",
   "execution_count": null,
   "metadata": {
    "collapsed": false
   },
   "outputs": [],
   "source": [
    "train = pd.read_csv('Dataset/train.csv');"
   ]
  },
  {
   "cell_type": "code",
   "execution_count": null,
   "metadata": {
    "collapsed": false,
    "scrolled": false
   },
   "outputs": [],
   "source": [
    "train.head(1)"
   ]
  },
  {
   "cell_type": "markdown",
   "metadata": {
    "collapsed": true
   },
   "source": [
    "### 1. clean all the nulls in department"
   ]
  },
  {
   "cell_type": "code",
   "execution_count": null,
   "metadata": {
    "collapsed": true
   },
   "outputs": [],
   "source": [
    "def tree_clean_null(df):\n",
    "    result = df.dropna(subset = [\"DepartmentDescription\"], how = \"all\")\n",
    "    print(\"After cleaning null on department, the shape is \",result.shape)\n",
    "    return result"
   ]
  },
  {
   "cell_type": "code",
   "execution_count": null,
   "metadata": {
    "collapsed": true
   },
   "outputs": [],
   "source": [
    "def other_clean_null(df):\n",
    "    result = df.dropna(subset = [\"Upc\"], how = \"all\")\n",
    "    print(\"After cleaning null on upc, the shape is \",result.shape)\n",
    "    return result"
   ]
  },
  {
   "cell_type": "code",
   "execution_count": null,
   "metadata": {
    "collapsed": true
   },
   "outputs": [],
   "source": [
    "testing = train"
   ]
  },
  {
   "cell_type": "code",
   "execution_count": null,
   "metadata": {
    "collapsed": false
   },
   "outputs": [],
   "source": [
    "testing = other_clean_null(testing)"
   ]
  },
  {
   "cell_type": "markdown",
   "metadata": {},
   "source": [
    "- Now we have (645693, 7)"
   ]
  },
  {
   "cell_type": "markdown",
   "metadata": {},
   "source": [
    "### 2. set the positive count"
   ]
  },
  {
   "cell_type": "code",
   "execution_count": null,
   "metadata": {
    "collapsed": true
   },
   "outputs": [],
   "source": [
    "def set_two_counts(df):\n",
    "    df[\"BuyCount\"] = df[\"ScanCount\"]\n",
    "    df[\"BuyCount\"][df['ScanCount'] < 0] = 0\n",
    "    df[\"ReturnCount\"] =  - df[\"ScanCount\"]\n",
    "    df[\"ReturnCount\"][df['ScanCount'] > 0] = 0\n",
    "    print(\"After set_two_counts, the shape is \", df.shape)\n",
    "    return df"
   ]
  },
  {
   "cell_type": "code",
   "execution_count": null,
   "metadata": {
    "collapsed": false,
    "scrolled": true
   },
   "outputs": [],
   "source": [
    "testing = set_two_counts(testing)"
   ]
  },
  {
   "cell_type": "markdown",
   "metadata": {},
   "source": [
    "### 3. remove similar terms in department"
   ]
  },
  {
   "cell_type": "markdown",
   "metadata": {},
   "source": [
    "- clean \"mens wear\" to \"menswear\""
   ]
  },
  {
   "cell_type": "code",
   "execution_count": null,
   "metadata": {
    "collapsed": true
   },
   "outputs": [],
   "source": [
    "def remove_similar_in_department(df):\n",
    "    df.DepartmentDescription = df.DepartmentDescription.replace([\"MENS WEAR\"], \"MENSWEAR\")\n",
    "    return df"
   ]
  },
  {
   "cell_type": "code",
   "execution_count": null,
   "metadata": {
    "collapsed": false,
    "scrolled": true
   },
   "outputs": [],
   "source": [
    "testing = remove_similar_in_department(testing)"
   ]
  },
  {
   "cell_type": "code",
   "execution_count": null,
   "metadata": {
    "collapsed": false
   },
   "outputs": [],
   "source": [
    "testing.DepartmentDescription.unique().shape"
   ]
  },
  {
   "cell_type": "markdown",
   "metadata": {},
   "source": [
    "### 4. group by visitnumber"
   ]
  },
  {
   "cell_type": "markdown",
   "metadata": {},
   "source": [
    "Count types of Upc products, Fineline products, and Departments per visit"
   ]
  },
  {
   "cell_type": "markdown",
   "metadata": {},
   "source": [
    "- compute the distince types of a column per visit (column = upc, fl, dp)"
   ]
  },
  {
   "cell_type": "code",
   "execution_count": null,
   "metadata": {
    "collapsed": true
   },
   "outputs": [],
   "source": [
    "def types_per_visit(df, _type):\n",
    "    newtype = _type + \"TypesPerVisit\"\n",
    "    type_mat = df.groupby(['VisitNumber'])[_type].nunique().reset_index()\n",
    "    type_mat = type_mat.rename(columns={_type: newtype})\n",
    "    return type_mat"
   ]
  },
  {
   "cell_type": "markdown",
   "metadata": {},
   "source": [
    "- merge on visitnumber"
   ]
  },
  {
   "cell_type": "code",
   "execution_count": null,
   "metadata": {
    "collapsed": true
   },
   "outputs": [],
   "source": [
    "def merge_types_per_visit(df,type_mat):\n",
    "    df = df.merge(type_mat, \n",
    "                left_on='VisitNumber', \n",
    "                right_on='VisitNumber', \n",
    "                how='left')\n",
    "    print(\"After merge_types_per_visit, the shape is \", df.shape)\n",
    "    return df\n",
    "    "
   ]
  },
  {
   "cell_type": "markdown",
   "metadata": {},
   "source": [
    "- compute the count of items per (visit, column)\n",
    "- (column = upc, fl, dp)"
   ]
  },
  {
   "cell_type": "code",
   "execution_count": null,
   "metadata": {
    "collapsed": true
   },
   "outputs": [],
   "source": [
    "def buy_types_per_visit(df, _type):\n",
    "    newtype = \"BuyCountPer\" + _type +\"Visit\"\n",
    "    type_mat = df.groupby(['VisitNumber', _type])[\"BuyCount\"].aggregate(np.sum).reset_index()\n",
    "    type_mat = type_mat.rename(columns={\"BuyCount\": newtype})\n",
    "    return type_mat"
   ]
  },
  {
   "cell_type": "markdown",
   "metadata": {},
   "source": [
    "- merge on (visit, column)"
   ]
  },
  {
   "cell_type": "code",
   "execution_count": null,
   "metadata": {
    "collapsed": true
   },
   "outputs": [],
   "source": [
    "def merge_buy_types_per_visit(df,type_mat,_type):\n",
    "    df = df.merge(type_mat, \n",
    "                left_on=['VisitNumber', _type], \n",
    "                right_on=['VisitNumber', _type], \n",
    "                how='left')\n",
    "    print(\"After merge_buy_types_per_visit, the shape is \", df.shape)\n",
    "    return df"
   ]
  },
  {
   "cell_type": "code",
   "execution_count": null,
   "metadata": {
    "collapsed": true
   },
   "outputs": [],
   "source": [
    "upc_mat = types_per_visit(testing, \"Upc\")\n",
    "fl_mat = types_per_visit(testing, \"FinelineNumber\")\n",
    "dp_mat = types_per_visit(testing, \"DepartmentDescription\")"
   ]
  },
  {
   "cell_type": "code",
   "execution_count": null,
   "metadata": {
    "collapsed": false
   },
   "outputs": [],
   "source": [
    "testing = merge_types_per_visit(testing, upc_mat)\n",
    "testing = merge_types_per_visit(testing, fl_mat)\n",
    "testing = merge_types_per_visit(testing, dp_mat)"
   ]
  },
  {
   "cell_type": "code",
   "execution_count": null,
   "metadata": {
    "collapsed": false
   },
   "outputs": [],
   "source": [
    "fl_mat = buy_types_per_visit(testing, \"FinelineNumber\")\n",
    "dp_mat = buy_types_per_visit(testing, \"DepartmentDescription\")"
   ]
  },
  {
   "cell_type": "code",
   "execution_count": null,
   "metadata": {
    "collapsed": false,
    "scrolled": true
   },
   "outputs": [],
   "source": [
    "testing = merge_buy_types_per_visit(testing, fl_mat, \"FinelineNumber\")\n",
    "testing = merge_buy_types_per_visit(testing, dp_mat, \"DepartmentDescription\")"
   ]
  },
  {
   "cell_type": "markdown",
   "metadata": {},
   "source": [
    "- sum bought products"
   ]
  },
  {
   "cell_type": "code",
   "execution_count": null,
   "metadata": {
    "collapsed": true
   },
   "outputs": [],
   "source": [
    "def sum_per_visit(df):\n",
    "    newtype = \"SumPerVisit\"\n",
    "    sum_mat = df.groupby('VisitNumber')[\"BuyCount\"].aggregate(np.sum).reset_index()\n",
    "    sum_mat = sum_mat.rename(columns={\"BuyCount\": newtype})\n",
    "    return sum_mat"
   ]
  },
  {
   "cell_type": "code",
   "execution_count": null,
   "metadata": {
    "collapsed": true
   },
   "outputs": [],
   "source": [
    "def merge_sum_per_visit(df, sum_mat):\n",
    "    df = df.merge(sum_mat, \n",
    "                left_on=['VisitNumber'], \n",
    "                right_on=['VisitNumber'], \n",
    "                how='left')\n",
    "    print(\"After merge_sum_per_visit, the shape is \", df.shape)\n",
    "    return df  "
   ]
  },
  {
   "cell_type": "code",
   "execution_count": null,
   "metadata": {
    "collapsed": true
   },
   "outputs": [],
   "source": [
    "sum_mat = sum_per_visit(testing)"
   ]
  },
  {
   "cell_type": "code",
   "execution_count": null,
   "metadata": {
    "collapsed": false
   },
   "outputs": [],
   "source": [
    "testing = merge_sum_per_visit(testing,sum_mat)"
   ]
  },
  {
   "cell_type": "code",
   "execution_count": null,
   "metadata": {
    "collapsed": false,
    "scrolled": true
   },
   "outputs": [],
   "source": [
    "testing.head()"
   ]
  },
  {
   "cell_type": "markdown",
   "metadata": {},
   "source": [
    "### 5. transfer text into vector"
   ]
  },
  {
   "cell_type": "markdown",
   "metadata": {},
   "source": [
    "- reshape department"
   ]
  },
  {
   "cell_type": "code",
   "execution_count": null,
   "metadata": {
    "collapsed": true
   },
   "outputs": [],
   "source": [
    "temp1 = pd.get_dummies(testing.DepartmentDescription).astype(int, copy=False)"
   ]
  },
  {
   "cell_type": "markdown",
   "metadata": {},
   "source": [
    "- reshape weekday"
   ]
  },
  {
   "cell_type": "code",
   "execution_count": null,
   "metadata": {
    "collapsed": false
   },
   "outputs": [],
   "source": [
    "temp2 = pd.get_dummies(testing.Weekday).astype(int, copy=False)"
   ]
  },
  {
   "cell_type": "code",
   "execution_count": null,
   "metadata": {
    "collapsed": false
   },
   "outputs": [],
   "source": [
    "# Now we don't need these columns anymore\n",
    "# testing.drop(['DepartmentDescription', 'Weekday'], inplace=True, axis=1)\n",
    "\n",
    "\n",
    "# Concatenate df with the dummy dataframes after converting df to int\n",
    "# testing.astype(int, copy=False)\n",
    "testing = pd.concat([testing, temp1, temp2], axis=1)"
   ]
  },
  {
   "cell_type": "code",
   "execution_count": null,
   "metadata": {
    "collapsed": true
   },
   "outputs": [],
   "source": [
    "del temp1, temp2"
   ]
  },
  {
   "cell_type": "code",
   "execution_count": null,
   "metadata": {
    "collapsed": false
   },
   "outputs": [],
   "source": [
    "testing.shape"
   ]
  },
  {
   "cell_type": "code",
   "execution_count": null,
   "metadata": {
    "collapsed": true
   },
   "outputs": [],
   "source": [
    "testing.drop(['VisitNumber' ,'DepartmentDescription', 'Weekday'], inplace=True, axis=1)"
   ]
  },
  {
   "cell_type": "code",
   "execution_count": null,
   "metadata": {
    "collapsed": false
   },
   "outputs": [],
   "source": [
    "testing.shape"
   ]
  },
  {
   "cell_type": "code",
   "execution_count": null,
   "metadata": {
    "collapsed": false
   },
   "outputs": [],
   "source": [
    "testing.columns.values"
   ]
  },
  {
   "cell_type": "code",
   "execution_count": null,
   "metadata": {
    "collapsed": false
   },
   "outputs": [],
   "source": [
    "testing.index[testing.isnull().any(axis = 1)]"
   ]
  },
  {
   "cell_type": "code",
   "execution_count": null,
   "metadata": {
    "collapsed": true
   },
   "outputs": [],
   "source": [
    "testing.to_csv(\"Dataset/knn_data.csv\")"
   ]
  }
 ],
 "metadata": {
  "anaconda-cloud": {},
  "kernelspec": {
   "display_name": "cse6240",
   "language": "python",
   "name": "cse6240"
  },
  "language_info": {
   "codemirror_mode": {
    "name": "ipython",
    "version": 3
   },
   "file_extension": ".py",
   "mimetype": "text/x-python",
   "name": "python",
   "nbconvert_exporter": "python",
   "pygments_lexer": "ipython3",
   "version": "3.6.0"
  }
 },
 "nbformat": 4,
 "nbformat_minor": 1
}
