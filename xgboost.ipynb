{
 "cells": [
  {
   "cell_type": "code",
   "execution_count": 1,
   "metadata": {
    "collapsed": true
   },
   "outputs": [],
   "source": [
    "import xgboost as xgb\n",
    "import numpy as np\n",
    "from sklearn.metrics import log_loss"
   ]
  },
  {
   "cell_type": "code",
   "execution_count": 2,
   "metadata": {
    "collapsed": false
   },
   "outputs": [],
   "source": [
    "Dtrain = xgb.DMatrix('Dataset/xgboost_train.buffer')\n",
    "Dtest = xgb.DMatrix('Dataset/xgboost_test.buffer')"
   ]
  },
  {
   "cell_type": "code",
   "execution_count": 3,
   "metadata": {
    "collapsed": false
   },
   "outputs": [
    {
     "data": {
      "text/plain": [
       "xgboost.core.DMatrix"
      ]
     },
     "execution_count": 3,
     "metadata": {},
     "output_type": "execute_result"
    }
   ],
   "source": [
    "type(Dtrain)"
   ]
  },
  {
   "cell_type": "markdown",
   "metadata": {},
   "source": [
    "eta [default=0.3]\n",
    "Analogous to learning rate in GBM\n",
    "Makes the model more robust by shrinking the weights on each step\n",
    "Typical final values to be used: 0.01-0.2\n",
    "min_child_weight [default=1]\n",
    "Defines the minimum sum of weights of all observations required in a child.\n",
    "This is similar to min_child_leaf in GBM but not exactly. This refers to min “sum of weights” of observations while GBM has min “number of observations”.\n",
    "Used to control over-fitting. Higher values prevent a model from learning relations which might be highly specific to the particular sample selected for a tree.\n",
    "Too high values can lead to under-fitting hence, it should be tuned using CV.\n",
    "max_depth [default=6]\n",
    "The maximum depth of a tree, same as GBM.\n",
    "Used to control over-fitting as higher depth will allow model to learn relations very specific to a particular sample.\n",
    "Should be tuned using CV.\n",
    "Typical values: 3-10\n",
    "max_leaf_nodes\n",
    "The maximum number of terminal nodes or leaves in a tree.\n",
    "Can be defined in place of max_depth. Since binary trees are created, a depth of ‘n’ would produce a maximum of 2^n leaves.\n",
    "If this is defined, GBM will ignore max_depth.\n",
    "gamma [default=0]\n",
    "A node is split only when the resulting split gives a positive reduction in the loss function. Gamma specifies the minimum loss reduction required to make a split.\n",
    "Makes the algorithm conservative. The values can vary depending on the loss function and should be tuned.\n",
    "max_delta_step [default=0]\n",
    "In maximum delta step we allow each tree’s weight estimation to be. If the value is set to 0, it means there is no constraint. If it is set to a positive value, it can help making the update step more conservative.\n",
    "Usually this parameter is not needed, but it might help in logistic regression when class is extremely imbalanced.\n",
    "This is generally not used but you can explore further if you wish.\n",
    "subsample [default=1]\n",
    "Same as the subsample of GBM. Denotes the fraction of observations to be randomly samples for each tree.\n",
    "Lower values make the algorithm more conservative and prevents overfitting but too small values might lead to under-fitting.\n",
    "Typical values: 0.5-1\n",
    "colsample_bytree [default=1]\n",
    "Similar to max_features in GBM. Denotes the fraction of columns to be randomly samples for each tree.\n",
    "Typical values: 0.5-1\n",
    "colsample_bylevel [default=1]\n",
    "Denotes the subsample ratio of columns for each split, in each level.\n",
    "I don’t use this often because subsample and colsample_bytree will do the job for you. but you can explore further if you feel so.\n",
    "lambda [default=1]\n",
    "L2 regularization term on weights (analogous to Ridge regression)\n",
    "This used to handle the regularization part of XGBoost. Though many data scientists don’t use it often, it should be explored to reduce overfitting.\n",
    "alpha [default=0]\n",
    "L1 regularization term on weight (analogous to Lasso regression)\n",
    "Can be used in case of very high dimensionality so that the algorithm runs faster when implemented\n",
    "scale_pos_weight [default=1]\n",
    "A value greater than 0 should be used in case of high class imbalance as it helps in faster convergence.\n",
    " "
   ]
  },
  {
   "cell_type": "code",
   "execution_count": 4,
   "metadata": {
    "collapsed": true
   },
   "outputs": [],
   "source": [
    "evallist = [(Dtrain, 'train'), (Dtest, 'eval')]"
   ]
  },
  {
   "cell_type": "code",
   "execution_count": 5,
   "metadata": {
    "collapsed": false
   },
   "outputs": [],
   "source": [
    "import time\n",
    "def xgboost_train(params):\n",
    "    print(\"====================================\")\n",
    "    print(\"Parameters: \",params)\n",
    "    print(\"model starts\")\n",
    "    start = time.time()\n",
    "    model = xgb.train(params=params, \n",
    "        dtrain=Dtrain, \n",
    "        num_boost_round=20,  \n",
    "        early_stopping_rounds=10, \n",
    "        evals=evallist)\n",
    "    score = log_loss(Dtest.get_label(), model.predict(Dtest))\n",
    "    end = time.time()\n",
    "    eta = str(params['eta'])\n",
    "    dp = str(params['max_depth'])\n",
    "    model.save_model('Dataset/0422' + eta + '_' + dp +'.model')\n",
    "    print(\"Time pass: \", end-start)\n",
    "    \n",
    "    print(\"Score: \", score)\n",
    "#     return {'loss': score, 'status': STATUS_OK}"
   ]
  },
  {
   "cell_type": "code",
   "execution_count": 6,
   "metadata": {
    "collapsed": false,
    "scrolled": false
   },
   "outputs": [
    {
     "name": "stdout",
     "output_type": "stream",
     "text": [
      "====================================\n",
      "Parameters:  {'eta': 0.3, 'max_depth': 6, 'num_class': 38, 'eval_metric': 'mlogloss', 'objective': 'multi:softprob'}\n",
      "model starts\n",
      "[0]\ttrain-mlogloss:2.02799\teval-mlogloss:2.03669\n",
      "Multiple eval metrics have been passed: 'eval-mlogloss' will be used for early stopping.\n",
      "\n",
      "Will train until eval-mlogloss hasn't improved in 10 rounds.\n",
      "[1]\ttrain-mlogloss:1.85894\teval-mlogloss:1.86902\n",
      "[2]\ttrain-mlogloss:1.76389\teval-mlogloss:1.77561\n",
      "[3]\ttrain-mlogloss:1.6963\teval-mlogloss:1.70926\n",
      "[4]\ttrain-mlogloss:1.64497\teval-mlogloss:1.65882\n",
      "[5]\ttrain-mlogloss:1.60352\teval-mlogloss:1.61853\n",
      "[6]\ttrain-mlogloss:1.56946\teval-mlogloss:1.58567\n",
      "[7]\ttrain-mlogloss:1.5413\teval-mlogloss:1.559\n",
      "[8]\ttrain-mlogloss:1.51525\teval-mlogloss:1.53385\n",
      "[9]\ttrain-mlogloss:1.49453\teval-mlogloss:1.51416\n",
      "[10]\ttrain-mlogloss:1.47418\teval-mlogloss:1.49456\n",
      "[11]\ttrain-mlogloss:1.45657\teval-mlogloss:1.47785\n",
      "[12]\ttrain-mlogloss:1.442\teval-mlogloss:1.46415\n",
      "[13]\ttrain-mlogloss:1.42863\teval-mlogloss:1.4516\n",
      "[14]\ttrain-mlogloss:1.41564\teval-mlogloss:1.43991\n",
      "[15]\ttrain-mlogloss:1.40448\teval-mlogloss:1.42978\n",
      "[16]\ttrain-mlogloss:1.39395\teval-mlogloss:1.42022\n",
      "[17]\ttrain-mlogloss:1.3852\teval-mlogloss:1.41239\n",
      "[18]\ttrain-mlogloss:1.37583\teval-mlogloss:1.40357\n",
      "[19]\ttrain-mlogloss:1.36697\teval-mlogloss:1.39561\n",
      "Time pass:  3676.154142141342\n",
      "Score:  1.39561361101\n"
     ]
    }
   ],
   "source": [
    "space = {'eta' : 0.3,\n",
    "    'max_depth' : 6,\n",
    "    'num_class' : 38,\n",
    "    'eval_metric': 'mlogloss',\n",
    "    'objective': 'multi:softprob'}\n",
    "xgboost_train(space)"
   ]
  },
  {
   "cell_type": "code",
   "execution_count": 8,
   "metadata": {
    "collapsed": false
   },
   "outputs": [
    {
     "name": "stdout",
     "output_type": "stream",
     "text": [
      "====================================\n",
      "Parameters:  {'eta': 0.3, 'max_depth': 7, 'num_class': 38, 'eval_metric': 'mlogloss', 'objective': 'multi:softprob'}\n",
      "model starts\n",
      "[0]\ttrain-mlogloss:1.9909\teval-mlogloss:2.00193\n",
      "Multiple eval metrics have been passed: 'eval-mlogloss' will be used for early stopping.\n",
      "\n",
      "Will train until eval-mlogloss hasn't improved in 10 rounds.\n",
      "[1]\ttrain-mlogloss:1.82107\teval-mlogloss:1.83512\n",
      "[2]\ttrain-mlogloss:1.72142\teval-mlogloss:1.73838\n",
      "[3]\ttrain-mlogloss:1.65013\teval-mlogloss:1.66936\n",
      "[4]\ttrain-mlogloss:1.59602\teval-mlogloss:1.61732\n",
      "[5]\ttrain-mlogloss:1.5524\teval-mlogloss:1.57606\n",
      "[6]\ttrain-mlogloss:1.51699\teval-mlogloss:1.54216\n",
      "[7]\ttrain-mlogloss:1.48364\teval-mlogloss:1.51034\n",
      "[8]\ttrain-mlogloss:1.45694\teval-mlogloss:1.48563\n",
      "[9]\ttrain-mlogloss:1.43601\teval-mlogloss:1.46631\n",
      "[10]\ttrain-mlogloss:1.41477\teval-mlogloss:1.44643\n",
      "[11]\ttrain-mlogloss:1.39582\teval-mlogloss:1.42922\n",
      "[12]\ttrain-mlogloss:1.37895\teval-mlogloss:1.41301\n",
      "[13]\ttrain-mlogloss:1.36239\teval-mlogloss:1.39791\n",
      "[14]\ttrain-mlogloss:1.35001\teval-mlogloss:1.38686\n",
      "[15]\ttrain-mlogloss:1.33719\teval-mlogloss:1.37496\n",
      "[16]\ttrain-mlogloss:1.32583\teval-mlogloss:1.36471\n",
      "[17]\ttrain-mlogloss:1.31386\teval-mlogloss:1.35397\n",
      "[18]\ttrain-mlogloss:1.30492\teval-mlogloss:1.34619\n",
      "[19]\ttrain-mlogloss:1.29677\teval-mlogloss:1.33915\n",
      "Time pass:  3926.5030262470245\n",
      "Score:  1.33914477603\n"
     ]
    }
   ],
   "source": [
    "space = {'eta' : 0.3,\n",
    "    'max_depth' : 7,\n",
    "    'num_class' : 38,\n",
    "    'eval_metric': 'mlogloss',\n",
    "    'objective': 'multi:softprob'}\n",
    "xgboost_train(space)"
   ]
  },
  {
   "cell_type": "code",
   "execution_count": 7,
   "metadata": {
    "collapsed": false
   },
   "outputs": [
    {
     "name": "stdout",
     "output_type": "stream",
     "text": [
      "====================================\n",
      "Parameters:  {'eta': 0.3, 'max_depth': 8, 'num_class': 38, 'eval_metric': 'mlogloss', 'objective': 'multi:softprob'}\n",
      "model starts\n",
      "[0]\ttrain-mlogloss:1.95505\teval-mlogloss:1.97063\n",
      "Multiple eval metrics have been passed: 'eval-mlogloss' will be used for early stopping.\n",
      "\n",
      "Will train until eval-mlogloss hasn't improved in 10 rounds.\n",
      "[1]\ttrain-mlogloss:1.78105\teval-mlogloss:1.8019\n",
      "[2]\ttrain-mlogloss:1.67714\teval-mlogloss:1.70209\n",
      "[3]\ttrain-mlogloss:1.60215\teval-mlogloss:1.63026\n",
      "[4]\ttrain-mlogloss:1.54288\teval-mlogloss:1.57452\n",
      "[5]\ttrain-mlogloss:1.49655\teval-mlogloss:1.53072\n",
      "[6]\ttrain-mlogloss:1.45493\teval-mlogloss:1.49156\n",
      "[7]\ttrain-mlogloss:1.42201\teval-mlogloss:1.46075\n",
      "[8]\ttrain-mlogloss:1.3935\teval-mlogloss:1.43452\n",
      "[9]\ttrain-mlogloss:1.36504\teval-mlogloss:1.4083\n",
      "[10]\ttrain-mlogloss:1.34434\teval-mlogloss:1.38951\n",
      "[11]\ttrain-mlogloss:1.32446\teval-mlogloss:1.37146\n",
      "[12]\ttrain-mlogloss:1.30467\teval-mlogloss:1.35348\n",
      "[13]\ttrain-mlogloss:1.28717\teval-mlogloss:1.33806\n",
      "[14]\ttrain-mlogloss:1.27268\teval-mlogloss:1.32503\n",
      "[15]\ttrain-mlogloss:1.25771\teval-mlogloss:1.31163\n",
      "[16]\ttrain-mlogloss:1.24486\teval-mlogloss:1.30066\n",
      "[17]\ttrain-mlogloss:1.23046\teval-mlogloss:1.28776\n",
      "[18]\ttrain-mlogloss:1.22105\teval-mlogloss:1.2796\n",
      "[19]\ttrain-mlogloss:1.2111\teval-mlogloss:1.27116\n",
      "Time pass:  4196.01459813118\n",
      "Score:  1.27115767363\n"
     ]
    }
   ],
   "source": [
    "space = {'eta' : 0.3,\n",
    "    'max_depth' : 8,\n",
    "    'num_class' : 38,\n",
    "    'eval_metric': 'mlogloss',\n",
    "    'objective': 'multi:softprob'}\n",
    "xgboost_train(space)"
   ]
  },
  {
   "cell_type": "code",
   "execution_count": 9,
   "metadata": {
    "collapsed": false
   },
   "outputs": [
    {
     "name": "stdout",
     "output_type": "stream",
     "text": [
      "====================================\n",
      "Parameters:  {'eta': 0.3, 'max_depth': 9, 'num_class': 38, 'eval_metric': 'mlogloss', 'objective': 'multi:softprob'}\n",
      "model starts\n",
      "[0]\ttrain-mlogloss:1.92237\teval-mlogloss:1.94334\n",
      "Multiple eval metrics have been passed: 'eval-mlogloss' will be used for early stopping.\n",
      "\n",
      "Will train until eval-mlogloss hasn't improved in 10 rounds.\n",
      "[1]\ttrain-mlogloss:1.74138\teval-mlogloss:1.7701\n",
      "[2]\ttrain-mlogloss:1.62938\teval-mlogloss:1.66397\n",
      "[3]\ttrain-mlogloss:1.54921\teval-mlogloss:1.58812\n",
      "[4]\ttrain-mlogloss:1.48743\teval-mlogloss:1.53065\n",
      "[5]\ttrain-mlogloss:1.44066\teval-mlogloss:1.48718\n",
      "[6]\ttrain-mlogloss:1.39603\teval-mlogloss:1.44552\n",
      "[7]\ttrain-mlogloss:1.35875\teval-mlogloss:1.41155\n",
      "[8]\ttrain-mlogloss:1.32515\teval-mlogloss:1.38011\n",
      "[9]\ttrain-mlogloss:1.29895\teval-mlogloss:1.35656\n",
      "[10]\ttrain-mlogloss:1.27403\teval-mlogloss:1.334\n",
      "[11]\ttrain-mlogloss:1.25328\teval-mlogloss:1.31568\n",
      "[12]\ttrain-mlogloss:1.23218\teval-mlogloss:1.29601\n",
      "[13]\ttrain-mlogloss:1.21361\teval-mlogloss:1.27979\n",
      "[14]\ttrain-mlogloss:1.1985\teval-mlogloss:1.26689\n",
      "[15]\ttrain-mlogloss:1.1809\teval-mlogloss:1.25117\n",
      "[16]\ttrain-mlogloss:1.16593\teval-mlogloss:1.23829\n",
      "[17]\ttrain-mlogloss:1.15245\teval-mlogloss:1.22664\n",
      "[18]\ttrain-mlogloss:1.14053\teval-mlogloss:1.21643\n",
      "[19]\ttrain-mlogloss:1.12875\teval-mlogloss:1.20619\n",
      "Time pass:  4469.600275039673\n",
      "Score:  1.20619257416\n"
     ]
    }
   ],
   "source": [
    "space = {'eta' : 0.3,\n",
    "    'max_depth' : 9,\n",
    "    'num_class' : 38,\n",
    "    'eval_metric': 'mlogloss',\n",
    "    'objective': 'multi:softprob'}\n",
    "xgboost_train(space)"
   ]
  },
  {
   "cell_type": "code",
   "execution_count": 10,
   "metadata": {
    "collapsed": false
   },
   "outputs": [
    {
     "name": "stdout",
     "output_type": "stream",
     "text": [
      "====================================\n",
      "Parameters:  {'eta': 0.3, 'max_depth': 10, 'num_class': 38, 'eval_metric': 'mlogloss', 'objective': 'multi:softprob'}\n",
      "model starts\n",
      "[0]\ttrain-mlogloss:1.88799\teval-mlogloss:1.91395\n",
      "Multiple eval metrics have been passed: 'eval-mlogloss' will be used for early stopping.\n",
      "\n",
      "Will train until eval-mlogloss hasn't improved in 10 rounds.\n",
      "[1]\ttrain-mlogloss:1.69975\teval-mlogloss:1.73682\n",
      "[2]\ttrain-mlogloss:1.58218\teval-mlogloss:1.6267\n",
      "[3]\ttrain-mlogloss:1.49632\teval-mlogloss:1.5459\n",
      "[4]\ttrain-mlogloss:1.42696\teval-mlogloss:1.4818\n",
      "[5]\ttrain-mlogloss:1.37335\teval-mlogloss:1.43311\n",
      "[6]\ttrain-mlogloss:1.32998\teval-mlogloss:1.39325\n",
      "[7]\ttrain-mlogloss:1.28984\teval-mlogloss:1.357\n",
      "[8]\ttrain-mlogloss:1.25597\teval-mlogloss:1.32666\n",
      "[9]\ttrain-mlogloss:1.22266\teval-mlogloss:1.29588\n",
      "[10]\ttrain-mlogloss:1.19855\teval-mlogloss:1.27411\n",
      "[11]\ttrain-mlogloss:1.17255\teval-mlogloss:1.2509\n",
      "[12]\ttrain-mlogloss:1.148\teval-mlogloss:1.22845\n",
      "[13]\ttrain-mlogloss:1.12969\teval-mlogloss:1.21239\n",
      "[14]\ttrain-mlogloss:1.11129\teval-mlogloss:1.19624\n",
      "[15]\ttrain-mlogloss:1.0973\teval-mlogloss:1.18389\n",
      "[16]\ttrain-mlogloss:1.08023\teval-mlogloss:1.16856\n",
      "[17]\ttrain-mlogloss:1.06768\teval-mlogloss:1.15766\n",
      "[18]\ttrain-mlogloss:1.05485\teval-mlogloss:1.14633\n",
      "[19]\ttrain-mlogloss:1.04202\teval-mlogloss:1.13564\n",
      "Time pass:  4760.45117855072\n",
      "Score:  1.13563765949\n"
     ]
    }
   ],
   "source": [
    "space = {'eta' : 0.3,\n",
    "    'max_depth' : 10,\n",
    "    'num_class' : 38,\n",
    "    'eval_metric': 'mlogloss',\n",
    "    'objective': 'multi:softprob'}\n",
    "xgboost_train(space)"
   ]
  },
  {
   "cell_type": "code",
   "execution_count": 13,
   "metadata": {
    "collapsed": false
   },
   "outputs": [
    {
     "name": "stdout",
     "output_type": "stream",
     "text": [
      "====================================\n",
      "Parameters:  {'eta': 0.3, 'max_depth': 15, 'num_class': 38, 'eval_metric': 'mlogloss', 'objective': 'multi:softprob'}\n",
      "model starts\n",
      "[0]\ttrain-mlogloss:1.74298\teval-mlogloss:1.79519\n",
      "Multiple eval metrics have been passed: 'eval-mlogloss' will be used for early stopping.\n",
      "\n",
      "Will train until eval-mlogloss hasn't improved in 10 rounds.\n",
      "[1]\ttrain-mlogloss:1.5149\teval-mlogloss:1.59136\n",
      "[2]\ttrain-mlogloss:1.36707\teval-mlogloss:1.46136\n",
      "[3]\ttrain-mlogloss:1.25257\teval-mlogloss:1.35891\n",
      "[4]\ttrain-mlogloss:1.15804\teval-mlogloss:1.2741\n",
      "[5]\ttrain-mlogloss:1.08457\teval-mlogloss:1.20809\n",
      "[6]\ttrain-mlogloss:1.02097\teval-mlogloss:1.1519\n",
      "[7]\ttrain-mlogloss:0.966079\teval-mlogloss:1.10401\n",
      "[8]\ttrain-mlogloss:0.923604\teval-mlogloss:1.06688\n",
      "[9]\ttrain-mlogloss:0.882565\teval-mlogloss:1.03048\n",
      "[10]\ttrain-mlogloss:0.853663\teval-mlogloss:1.00564\n",
      "[11]\ttrain-mlogloss:0.82315\teval-mlogloss:0.97885\n",
      "[12]\ttrain-mlogloss:0.796487\teval-mlogloss:0.954928\n",
      "[13]\ttrain-mlogloss:0.769416\teval-mlogloss:0.931275\n",
      "[14]\ttrain-mlogloss:0.747131\teval-mlogloss:0.911946\n",
      "[15]\ttrain-mlogloss:0.727673\teval-mlogloss:0.895321\n",
      "[16]\ttrain-mlogloss:0.71093\teval-mlogloss:0.880328\n",
      "[17]\ttrain-mlogloss:0.694472\teval-mlogloss:0.865891\n",
      "[18]\ttrain-mlogloss:0.679168\teval-mlogloss:0.852184\n",
      "[19]\ttrain-mlogloss:0.663925\teval-mlogloss:0.838671\n",
      "Time pass:  6147.7482380867\n",
      "Score:  0.838671253882\n"
     ]
    }
   ],
   "source": [
    "space = {'eta' : 0.3,\n",
    "    'max_depth' : 15,\n",
    "    'num_class' : 38,\n",
    "    'eval_metric': 'mlogloss',\n",
    "    'objective': 'multi:softprob'}\n",
    "xgboost_train(space)"
   ]
  },
  {
   "cell_type": "code",
   "execution_count": 11,
   "metadata": {
    "collapsed": false
   },
   "outputs": [
    {
     "name": "stdout",
     "output_type": "stream",
     "text": [
      "====================================\n",
      "Parameters:  {'eta': 0.35, 'max_depth': 5, 'num_class': 38, 'eval_metric': 'mlogloss', 'objective': 'multi:softprob'}\n",
      "model starts\n",
      "[0]\ttrain-mlogloss:1.99964\teval-mlogloss:2.00561\n",
      "Multiple eval metrics have been passed: 'eval-mlogloss' will be used for early stopping.\n",
      "\n",
      "Will train until eval-mlogloss hasn't improved in 10 rounds.\n",
      "[1]\ttrain-mlogloss:1.81927\teval-mlogloss:1.82501\n",
      "[2]\ttrain-mlogloss:1.73642\teval-mlogloss:1.74446\n",
      "[3]\ttrain-mlogloss:1.68128\teval-mlogloss:1.69073\n",
      "[4]\ttrain-mlogloss:1.63855\teval-mlogloss:1.64903\n",
      "[5]\ttrain-mlogloss:1.60672\teval-mlogloss:1.61816\n",
      "[6]\ttrain-mlogloss:1.58001\teval-mlogloss:1.59219\n",
      "[7]\ttrain-mlogloss:1.55723\teval-mlogloss:1.57036\n",
      "[8]\ttrain-mlogloss:1.53648\teval-mlogloss:1.55008\n",
      "[9]\ttrain-mlogloss:1.51957\teval-mlogloss:1.53362\n",
      "[10]\ttrain-mlogloss:1.50424\teval-mlogloss:1.51942\n",
      "[11]\ttrain-mlogloss:1.49008\teval-mlogloss:1.50582\n",
      "[12]\ttrain-mlogloss:1.47789\teval-mlogloss:1.49433\n",
      "[13]\ttrain-mlogloss:1.46776\teval-mlogloss:1.48468\n",
      "[14]\ttrain-mlogloss:1.4592\teval-mlogloss:1.47687\n",
      "[15]\ttrain-mlogloss:1.44952\teval-mlogloss:1.4678\n",
      "[16]\ttrain-mlogloss:1.4404\teval-mlogloss:1.45946\n",
      "[17]\ttrain-mlogloss:1.43259\teval-mlogloss:1.45238\n",
      "[18]\ttrain-mlogloss:1.42456\teval-mlogloss:1.4453\n",
      "[19]\ttrain-mlogloss:1.41666\teval-mlogloss:1.43832\n",
      "Time pass:  3382.292333126068\n",
      "Score:  1.43831489741\n"
     ]
    }
   ],
   "source": [
    "space = {'eta' : 0.35,\n",
    "    'max_depth' : 5,\n",
    "    'num_class' : 38,\n",
    "    'eval_metric': 'mlogloss',\n",
    "    'objective': 'multi:softprob'}\n",
    "xgboost_train(space)"
   ]
  },
  {
   "cell_type": "code",
   "execution_count": 12,
   "metadata": {
    "collapsed": false
   },
   "outputs": [
    {
     "name": "stdout",
     "output_type": "stream",
     "text": [
      "====================================\n",
      "Parameters:  {'eta': 0.35, 'max_depth': 6, 'num_class': 38, 'eval_metric': 'mlogloss', 'objective': 'multi:softprob'}\n",
      "model starts\n",
      "[0]\ttrain-mlogloss:1.95813\teval-mlogloss:1.96791\n",
      "Multiple eval metrics have been passed: 'eval-mlogloss' will be used for early stopping.\n",
      "\n",
      "Will train until eval-mlogloss hasn't improved in 10 rounds.\n",
      "[1]\ttrain-mlogloss:1.77987\teval-mlogloss:1.79207\n",
      "[2]\ttrain-mlogloss:1.69105\teval-mlogloss:1.70573\n",
      "[3]\ttrain-mlogloss:1.6323\teval-mlogloss:1.64867\n",
      "[4]\ttrain-mlogloss:1.58738\teval-mlogloss:1.60488\n",
      "[5]\ttrain-mlogloss:1.55404\teval-mlogloss:1.57311\n",
      "[6]\ttrain-mlogloss:1.52419\teval-mlogloss:1.54451\n",
      "[7]\ttrain-mlogloss:1.49873\teval-mlogloss:1.51988\n",
      "[8]\ttrain-mlogloss:1.47515\teval-mlogloss:1.4976\n",
      "[9]\ttrain-mlogloss:1.45687\teval-mlogloss:1.48018\n",
      "[10]\ttrain-mlogloss:1.4379\teval-mlogloss:1.46233\n",
      "[11]\ttrain-mlogloss:1.42318\teval-mlogloss:1.44889\n",
      "[12]\ttrain-mlogloss:1.40906\teval-mlogloss:1.43553\n",
      "[13]\ttrain-mlogloss:1.39699\teval-mlogloss:1.42464\n",
      "[14]\ttrain-mlogloss:1.38436\teval-mlogloss:1.41327\n",
      "[15]\ttrain-mlogloss:1.37277\teval-mlogloss:1.40333\n",
      "[16]\ttrain-mlogloss:1.36335\teval-mlogloss:1.39464\n",
      "[17]\ttrain-mlogloss:1.35339\teval-mlogloss:1.38581\n",
      "[18]\ttrain-mlogloss:1.34523\teval-mlogloss:1.37848\n",
      "[19]\ttrain-mlogloss:1.3375\teval-mlogloss:1.37179\n",
      "Time pass:  3654.405999183655\n",
      "Score:  1.37179417606\n"
     ]
    }
   ],
   "source": [
    "space = {'eta' : 0.35,\n",
    "    'max_depth' : 6,\n",
    "    'num_class' : 38,\n",
    "    'eval_metric': 'mlogloss',\n",
    "    'objective': 'multi:softprob'}\n",
    "xgboost_train(space)"
   ]
  },
  {
   "cell_type": "code",
   "execution_count": null,
   "metadata": {
    "collapsed": false,
    "scrolled": true
   },
   "outputs": [
    {
     "name": "stdout",
     "output_type": "stream",
     "text": [
      "====================================\n",
      "Parameters:  {'eta': 0.35, 'max_depth': 7, 'num_class': 38, 'eval_metric': 'mlogloss', 'objective': 'multi:softprob'}\n",
      "model starts\n",
      "[0]\ttrain-mlogloss:1.92031\teval-mlogloss:1.93285\n",
      "Multiple eval metrics have been passed: 'eval-mlogloss' will be used for early stopping.\n",
      "\n",
      "Will train until eval-mlogloss hasn't improved in 10 rounds.\n",
      "[1]\ttrain-mlogloss:1.73223\teval-mlogloss:1.74967\n",
      "[2]\ttrain-mlogloss:1.64219\teval-mlogloss:1.663\n",
      "[3]\ttrain-mlogloss:1.58207\teval-mlogloss:1.6053\n",
      "[4]\ttrain-mlogloss:1.53305\teval-mlogloss:1.55801\n",
      "[5]\ttrain-mlogloss:1.49652\teval-mlogloss:1.52324\n",
      "[6]\ttrain-mlogloss:1.46579\teval-mlogloss:1.49474\n",
      "[7]\ttrain-mlogloss:1.43958\teval-mlogloss:1.47009\n",
      "[8]\ttrain-mlogloss:1.41425\teval-mlogloss:1.44646\n",
      "[9]\ttrain-mlogloss:1.39484\teval-mlogloss:1.42936\n",
      "[10]\ttrain-mlogloss:1.37125\teval-mlogloss:1.4083\n",
      "[11]\ttrain-mlogloss:1.35485\teval-mlogloss:1.39367\n",
      "[12]\ttrain-mlogloss:1.33877\teval-mlogloss:1.37921\n",
      "[13]\ttrain-mlogloss:1.32244\teval-mlogloss:1.36468\n",
      "[14]\ttrain-mlogloss:1.31014\teval-mlogloss:1.35371\n",
      "[15]\ttrain-mlogloss:1.29609\teval-mlogloss:1.34093\n",
      "[16]\ttrain-mlogloss:1.28327\teval-mlogloss:1.32928\n",
      "[17]\ttrain-mlogloss:1.27233\teval-mlogloss:1.32017\n",
      "[18]\ttrain-mlogloss:1.26412\teval-mlogloss:1.31339\n",
      "[19]\ttrain-mlogloss:1.25654\teval-mlogloss:1.30736\n",
      "Time pass:  3968.635630130768\n",
      "Score:  1.3073576421\n"
     ]
    }
   ],
   "source": [
    "space = {'eta' : 0.35,\n",
    "    'max_depth' : 7,\n",
    "    'num_class' : 38,\n",
    "    'eval_metric': 'mlogloss',\n",
    "    'objective': 'multi:softprob'}\n",
    "xgboost_train(space)"
   ]
  },
  {
   "cell_type": "code",
   "execution_count": null,
   "metadata": {
    "collapsed": false
   },
   "outputs": [
    {
     "name": "stdout",
     "output_type": "stream",
     "text": [
      "====================================\n",
      "Parameters:  {'eta': 0.4, 'eval_metric': 'mlogloss', 'max_depth': 3, 'num_class': 38, 'objective': 'multi:softprob'}\n",
      "model starts\n",
      "[0]\ttrain-mlogloss:2.08344\teval-mlogloss:2.08256\n",
      "Multiple eval metrics have been passed: 'eval-mlogloss' will be used for early stopping.\n",
      "\n",
      "Will train until eval-mlogloss hasn't improved in 10 rounds.\n",
      "[1]\ttrain-mlogloss:1.90168\teval-mlogloss:1.90223\n",
      "[2]\ttrain-mlogloss:1.80561\teval-mlogloss:1.80644\n",
      "[3]\ttrain-mlogloss:1.75378\teval-mlogloss:1.75452\n",
      "[4]\ttrain-mlogloss:1.7176\teval-mlogloss:1.71879\n",
      "[5]\ttrain-mlogloss:1.68896\teval-mlogloss:1.69039\n",
      "[6]\ttrain-mlogloss:1.66623\teval-mlogloss:1.66761\n",
      "[7]\ttrain-mlogloss:1.64974\teval-mlogloss:1.65131\n",
      "[8]\ttrain-mlogloss:1.63508\teval-mlogloss:1.63675\n",
      "[9]\ttrain-mlogloss:1.62183\teval-mlogloss:1.62379\n",
      "[10]\ttrain-mlogloss:1.61049\teval-mlogloss:1.61237\n",
      "[11]\ttrain-mlogloss:1.6\teval-mlogloss:1.60216\n",
      "[12]\ttrain-mlogloss:1.59083\teval-mlogloss:1.59352\n",
      "[13]\ttrain-mlogloss:1.58268\teval-mlogloss:1.58559\n",
      "[14]\ttrain-mlogloss:1.57441\teval-mlogloss:1.5776\n",
      "[15]\ttrain-mlogloss:1.5677\teval-mlogloss:1.57106\n",
      "[16]\ttrain-mlogloss:1.56227\teval-mlogloss:1.56601\n",
      "[17]\ttrain-mlogloss:1.55531\teval-mlogloss:1.55986\n",
      "[18]\ttrain-mlogloss:1.55034\teval-mlogloss:1.55513\n",
      "[19]\ttrain-mlogloss:1.54527\teval-mlogloss:1.55051\n",
      "Time pass:  2869.3539140224457\n",
      "Score:  1.55050510709\n",
      "====================================\n",
      "Parameters:  {'eta': 0.4, 'eval_metric': 'mlogloss', 'max_depth': 2, 'num_class': 38, 'objective': 'multi:softprob'}\n",
      "model starts\n",
      "[0]\ttrain-mlogloss:2.17905\teval-mlogloss:2.17489\n",
      "Multiple eval metrics have been passed: 'eval-mlogloss' will be used for early stopping.\n",
      "\n",
      "Will train until eval-mlogloss hasn't improved in 10 rounds.\n",
      "[1]\ttrain-mlogloss:1.95768\teval-mlogloss:1.95845\n",
      "[2]\ttrain-mlogloss:1.87354\teval-mlogloss:1.87403\n",
      "[3]\ttrain-mlogloss:1.82042\teval-mlogloss:1.82096\n",
      "[4]\ttrain-mlogloss:1.78277\teval-mlogloss:1.78322\n",
      "[5]\ttrain-mlogloss:1.7537\teval-mlogloss:1.7542\n",
      "[6]\ttrain-mlogloss:1.73206\teval-mlogloss:1.73246\n",
      "[7]\ttrain-mlogloss:1.7148\teval-mlogloss:1.71504\n",
      "[8]\ttrain-mlogloss:1.70013\teval-mlogloss:1.70075\n",
      "[9]\ttrain-mlogloss:1.68793\teval-mlogloss:1.68877\n",
      "[10]\ttrain-mlogloss:1.67691\teval-mlogloss:1.67788\n",
      "[11]\ttrain-mlogloss:1.66737\teval-mlogloss:1.66847\n",
      "[12]\ttrain-mlogloss:1.65916\teval-mlogloss:1.66016\n",
      "[13]\ttrain-mlogloss:1.65169\teval-mlogloss:1.65271\n",
      "[14]\ttrain-mlogloss:1.64446\teval-mlogloss:1.64528\n",
      "[15]\ttrain-mlogloss:1.63872\teval-mlogloss:1.6398\n",
      "[16]\ttrain-mlogloss:1.63314\teval-mlogloss:1.6344\n",
      "[17]\ttrain-mlogloss:1.6276\teval-mlogloss:1.62884\n",
      "[18]\ttrain-mlogloss:1.62244\teval-mlogloss:1.62374\n",
      "[19]\ttrain-mlogloss:1.61835\teval-mlogloss:1.61972\n",
      "Time pass:  2627.822474002838\n",
      "Score:  1.61972401863\n",
      "====================================\n",
      "Parameters:  {'eta': 0.4, 'eval_metric': 'mlogloss', 'max_depth': 2, 'num_class': 38, 'objective': 'multi:softprob'}\n",
      "model starts\n",
      "[0]\ttrain-mlogloss:2.17905\teval-mlogloss:2.17489\n",
      "Multiple eval metrics have been passed: 'eval-mlogloss' will be used for early stopping.\n",
      "\n",
      "Will train until eval-mlogloss hasn't improved in 10 rounds.\n",
      "[1]\ttrain-mlogloss:1.95768\teval-mlogloss:1.95845\n",
      "[2]\ttrain-mlogloss:1.87354\teval-mlogloss:1.87403\n"
     ]
    }
   ],
   "source": [
    "from hyperopt import fmin, tpe, hp, STATUS_OK \n",
    "# Define the hyperparameter space\n",
    "space = {'eta' : 0.4,\n",
    "    'max_depth' : hp.choice('max_depth', np.arange(2, 5, dtype=int)),\n",
    "    'num_class' : 38,\n",
    "    'eval_metric': 'mlogloss',\n",
    "    'objective': 'multi:softprob'}\n",
    "\n",
    "# Evaluate the function fmin over the hyperparameter space, and\n",
    "# print the best hyperparameters.  \n",
    "xgboost_best = fmin(xgboost_train, space=space, algo=tpe.suggest, max_evals = 100)\n",
    "print (\"==================best==================\")\n",
    "print (\"Optimal parameters for dtrain1 are: \", xgboost_best)"
   ]
  },
  {
   "cell_type": "code",
   "execution_count": null,
   "metadata": {
    "collapsed": false,
    "scrolled": false
   },
   "outputs": [
    {
     "name": "stdout",
     "output_type": "stream",
     "text": [
      "====================================\n",
      "Parameters:  {'eta': 0.30000000000000004, 'eval_metric': 'mlogloss', 'max_depth': 3, 'num_class': 38, 'objective': 'multi:softprob'}\n",
      "model starts\n",
      "[0]\ttrain-mlogloss:2.17709\teval-mlogloss:2.17656\n",
      "Multiple eval metrics have been passed: 'eval-mlogloss' will be used for early stopping.\n",
      "\n",
      "Will train until eval-mlogloss hasn't improved in 10 rounds.\n",
      "[1]\ttrain-mlogloss:2.00928\teval-mlogloss:2.00897\n",
      "[2]\ttrain-mlogloss:1.91196\teval-mlogloss:1.9116\n",
      "[3]\ttrain-mlogloss:1.84549\teval-mlogloss:1.84531\n",
      "[4]\ttrain-mlogloss:1.79614\teval-mlogloss:1.79591\n",
      "[5]\ttrain-mlogloss:1.75742\teval-mlogloss:1.75763\n",
      "[6]\ttrain-mlogloss:1.72727\teval-mlogloss:1.7278\n",
      "[7]\ttrain-mlogloss:1.70177\teval-mlogloss:1.70223\n",
      "[8]\ttrain-mlogloss:1.68156\teval-mlogloss:1.68219\n",
      "[9]\ttrain-mlogloss:1.66366\teval-mlogloss:1.66436\n",
      "[10]\ttrain-mlogloss:1.64836\teval-mlogloss:1.64918\n",
      "[11]\ttrain-mlogloss:1.63567\teval-mlogloss:1.63682\n",
      "[12]\ttrain-mlogloss:1.6248\teval-mlogloss:1.62616\n",
      "[13]\ttrain-mlogloss:1.61378\teval-mlogloss:1.61503\n",
      "[14]\ttrain-mlogloss:1.6049\teval-mlogloss:1.60625\n",
      "[15]\ttrain-mlogloss:1.59631\teval-mlogloss:1.59795\n",
      "[16]\ttrain-mlogloss:1.58919\teval-mlogloss:1.59082\n",
      "[17]\ttrain-mlogloss:1.58262\teval-mlogloss:1.58451\n",
      "[18]\ttrain-mlogloss:1.57672\teval-mlogloss:1.57879\n",
      "[19]\ttrain-mlogloss:1.57078\teval-mlogloss:1.57312\n",
      "Time pass:  2903.9867057800293\n",
      "Score:  1.57311560125\n",
      "====================================\n",
      "Parameters:  {'eta': 0.25, 'eval_metric': 'mlogloss', 'max_depth': 4, 'num_class': 38, 'objective': 'multi:softprob'}\n",
      "model starts\n",
      "[0]\ttrain-mlogloss:2.24141\teval-mlogloss:2.24289\n",
      "Multiple eval metrics have been passed: 'eval-mlogloss' will be used for early stopping.\n",
      "\n",
      "Will train until eval-mlogloss hasn't improved in 10 rounds.\n",
      "[1]\ttrain-mlogloss:2.07344\teval-mlogloss:2.07524\n",
      "[2]\ttrain-mlogloss:1.96388\teval-mlogloss:1.96582\n",
      "[3]\ttrain-mlogloss:1.8845\teval-mlogloss:1.88685\n",
      "[4]\ttrain-mlogloss:1.82392\teval-mlogloss:1.82648\n",
      "[5]\ttrain-mlogloss:1.77583\teval-mlogloss:1.77858\n",
      "[6]\ttrain-mlogloss:1.73772\teval-mlogloss:1.74073\n",
      "[7]\ttrain-mlogloss:1.70628\teval-mlogloss:1.70952\n",
      "[8]\ttrain-mlogloss:1.67988\teval-mlogloss:1.68348\n",
      "[9]\ttrain-mlogloss:1.65753\teval-mlogloss:1.66151\n",
      "[10]\ttrain-mlogloss:1.63776\teval-mlogloss:1.64202\n",
      "[11]\ttrain-mlogloss:1.62147\teval-mlogloss:1.62593\n",
      "[12]\ttrain-mlogloss:1.60637\teval-mlogloss:1.61085\n",
      "[13]\ttrain-mlogloss:1.59349\teval-mlogloss:1.59809\n",
      "[14]\ttrain-mlogloss:1.58213\teval-mlogloss:1.5871\n",
      "[15]\ttrain-mlogloss:1.57157\teval-mlogloss:1.57689\n",
      "[16]\ttrain-mlogloss:1.56137\teval-mlogloss:1.56701\n",
      "[17]\ttrain-mlogloss:1.55173\teval-mlogloss:1.55784\n",
      "[18]\ttrain-mlogloss:1.54355\teval-mlogloss:1.54992\n",
      "[19]\ttrain-mlogloss:1.53568\teval-mlogloss:1.54253\n",
      "Time pass:  3137.052850961685\n",
      "Score:  1.54253273478\n",
      "====================================\n",
      "Parameters:  {'eta': 0.25, 'eval_metric': 'mlogloss', 'max_depth': 2, 'num_class': 38, 'objective': 'multi:softprob'}\n",
      "model starts\n",
      "[0]\ttrain-mlogloss:2.40307\teval-mlogloss:2.40086\n",
      "Multiple eval metrics have been passed: 'eval-mlogloss' will be used for early stopping.\n",
      "\n",
      "Will train until eval-mlogloss hasn't improved in 10 rounds.\n",
      "[1]\ttrain-mlogloss:2.22262\teval-mlogloss:2.22226\n",
      "[2]\ttrain-mlogloss:2.10813\teval-mlogloss:2.10751\n",
      "[3]\ttrain-mlogloss:2.02623\teval-mlogloss:2.02538\n",
      "[4]\ttrain-mlogloss:1.96192\teval-mlogloss:1.96117\n",
      "[5]\ttrain-mlogloss:1.91264\teval-mlogloss:1.91181\n",
      "[6]\ttrain-mlogloss:1.87254\teval-mlogloss:1.87173\n",
      "[7]\ttrain-mlogloss:1.83954\teval-mlogloss:1.83887\n",
      "[8]\ttrain-mlogloss:1.81169\teval-mlogloss:1.81109\n",
      "[9]\ttrain-mlogloss:1.78811\teval-mlogloss:1.7874\n",
      "[10]\ttrain-mlogloss:1.76856\teval-mlogloss:1.76797\n",
      "[11]\ttrain-mlogloss:1.75131\teval-mlogloss:1.75081\n",
      "[12]\ttrain-mlogloss:1.73646\teval-mlogloss:1.73594\n",
      "[13]\ttrain-mlogloss:1.72359\teval-mlogloss:1.72288\n",
      "[14]\ttrain-mlogloss:1.71225\teval-mlogloss:1.7117\n",
      "[15]\ttrain-mlogloss:1.7025\teval-mlogloss:1.70194\n",
      "[16]\ttrain-mlogloss:1.69295\teval-mlogloss:1.69254\n",
      "[17]\ttrain-mlogloss:1.68488\teval-mlogloss:1.68451\n",
      "[18]\ttrain-mlogloss:1.67724\teval-mlogloss:1.67689\n",
      "[19]\ttrain-mlogloss:1.67065\teval-mlogloss:1.67044\n",
      "Time pass:  2610.595272064209\n",
      "Score:  1.67044354941\n",
      "====================================\n",
      "Parameters:  {'eta': 0.30000000000000004, 'eval_metric': 'mlogloss', 'max_depth': 4, 'num_class': 38, 'objective': 'multi:softprob'}\n",
      "model starts\n",
      "[0]\ttrain-mlogloss:2.11379\teval-mlogloss:2.11546\n",
      "Multiple eval metrics have been passed: 'eval-mlogloss' will be used for early stopping.\n",
      "\n",
      "Will train until eval-mlogloss hasn't improved in 10 rounds.\n",
      "[1]\ttrain-mlogloss:1.94828\teval-mlogloss:1.95019\n",
      "[2]\ttrain-mlogloss:1.85295\teval-mlogloss:1.85477\n",
      "[3]\ttrain-mlogloss:1.7885\teval-mlogloss:1.79089\n",
      "[4]\ttrain-mlogloss:1.73927\teval-mlogloss:1.74221\n",
      "[5]\ttrain-mlogloss:1.70121\teval-mlogloss:1.70466\n",
      "[6]\ttrain-mlogloss:1.67052\teval-mlogloss:1.67432\n",
      "[7]\ttrain-mlogloss:1.64453\teval-mlogloss:1.64879\n",
      "[8]\ttrain-mlogloss:1.62317\teval-mlogloss:1.62804\n",
      "[9]\ttrain-mlogloss:1.60439\teval-mlogloss:1.60936\n",
      "[10]\ttrain-mlogloss:1.58968\teval-mlogloss:1.59493\n",
      "[11]\ttrain-mlogloss:1.57587\teval-mlogloss:1.58145\n",
      "[12]\ttrain-mlogloss:1.56311\teval-mlogloss:1.56906\n",
      "[13]\ttrain-mlogloss:1.5516\teval-mlogloss:1.55793\n",
      "[14]\ttrain-mlogloss:1.5425\teval-mlogloss:1.54947\n",
      "[15]\ttrain-mlogloss:1.5338\teval-mlogloss:1.54115\n",
      "[16]\ttrain-mlogloss:1.52474\teval-mlogloss:1.53229\n",
      "[17]\ttrain-mlogloss:1.51698\teval-mlogloss:1.52489\n",
      "[18]\ttrain-mlogloss:1.51021\teval-mlogloss:1.51863\n",
      "[19]\ttrain-mlogloss:1.50413\teval-mlogloss:1.51315\n",
      "Time pass:  3117.8965907096863\n",
      "Score:  1.51314893862\n",
      "====================================\n",
      "Parameters:  {'eta': 0.25, 'eval_metric': 'mlogloss', 'max_depth': 4, 'num_class': 38, 'objective': 'multi:softprob'}\n",
      "model starts\n",
      "[0]\ttrain-mlogloss:2.24141\teval-mlogloss:2.24289\n",
      "Multiple eval metrics have been passed: 'eval-mlogloss' will be used for early stopping.\n",
      "\n",
      "Will train until eval-mlogloss hasn't improved in 10 rounds.\n",
      "[1]\ttrain-mlogloss:2.07344\teval-mlogloss:2.07524\n",
      "[2]\ttrain-mlogloss:1.96388\teval-mlogloss:1.96582\n",
      "[3]\ttrain-mlogloss:1.8845\teval-mlogloss:1.88685\n",
      "[4]\ttrain-mlogloss:1.82392\teval-mlogloss:1.82648\n",
      "[5]\ttrain-mlogloss:1.77583\teval-mlogloss:1.77858\n",
      "[6]\ttrain-mlogloss:1.73772\teval-mlogloss:1.74073\n",
      "[7]\ttrain-mlogloss:1.70628\teval-mlogloss:1.70952\n",
      "[8]\ttrain-mlogloss:1.67988\teval-mlogloss:1.68348\n",
      "[9]\ttrain-mlogloss:1.65753\teval-mlogloss:1.66151\n",
      "[10]\ttrain-mlogloss:1.63776\teval-mlogloss:1.64202\n",
      "[11]\ttrain-mlogloss:1.62147\teval-mlogloss:1.62593\n",
      "[12]\ttrain-mlogloss:1.60637\teval-mlogloss:1.61085\n",
      "[13]\ttrain-mlogloss:1.59349\teval-mlogloss:1.59809\n",
      "[14]\ttrain-mlogloss:1.58213\teval-mlogloss:1.5871\n",
      "[15]\ttrain-mlogloss:1.57157\teval-mlogloss:1.57689\n",
      "[16]\ttrain-mlogloss:1.56137\teval-mlogloss:1.56701\n",
      "[17]\ttrain-mlogloss:1.55173\teval-mlogloss:1.55784\n",
      "[18]\ttrain-mlogloss:1.54355\teval-mlogloss:1.54992\n",
      "[19]\ttrain-mlogloss:1.53568\teval-mlogloss:1.54253\n",
      "Time pass:  3114.537437915802\n",
      "Score:  1.54253273478\n",
      "====================================\n",
      "Parameters:  {'eta': 0.1, 'eval_metric': 'mlogloss', 'max_depth': 2, 'num_class': 38, 'objective': 'multi:softprob'}\n",
      "model starts\n",
      "[0]\ttrain-mlogloss:3.06173\teval-mlogloss:3.061\n",
      "Multiple eval metrics have been passed: 'eval-mlogloss' will be used for early stopping.\n",
      "\n",
      "Will train until eval-mlogloss hasn't improved in 10 rounds.\n",
      "[1]\ttrain-mlogloss:2.849\teval-mlogloss:2.84826\n",
      "[2]\ttrain-mlogloss:2.69896\teval-mlogloss:2.69809\n",
      "[3]\ttrain-mlogloss:2.58245\teval-mlogloss:2.5815\n",
      "[4]\ttrain-mlogloss:2.48826\teval-mlogloss:2.48739\n",
      "[5]\ttrain-mlogloss:2.40962\teval-mlogloss:2.40888\n",
      "[6]\ttrain-mlogloss:2.34229\teval-mlogloss:2.34126\n",
      "[7]\ttrain-mlogloss:2.28369\teval-mlogloss:2.28257\n",
      "[8]\ttrain-mlogloss:2.23221\teval-mlogloss:2.2311\n",
      "[9]\ttrain-mlogloss:2.18689\teval-mlogloss:2.18575\n",
      "[10]\ttrain-mlogloss:2.14638\teval-mlogloss:2.14529\n",
      "[11]\ttrain-mlogloss:2.11\teval-mlogloss:2.1088\n",
      "[12]\ttrain-mlogloss:2.07722\teval-mlogloss:2.07601\n",
      "[13]\ttrain-mlogloss:2.04733\teval-mlogloss:2.04611\n",
      "[14]\ttrain-mlogloss:2.01997\teval-mlogloss:2.01871\n",
      "[15]\ttrain-mlogloss:1.99508\teval-mlogloss:1.99378\n",
      "[16]\ttrain-mlogloss:1.97208\teval-mlogloss:1.97078\n",
      "[17]\ttrain-mlogloss:1.95136\teval-mlogloss:1.95006\n",
      "[18]\ttrain-mlogloss:1.93208\teval-mlogloss:1.93089\n",
      "[19]\ttrain-mlogloss:1.91424\teval-mlogloss:1.91308\n",
      "Time pass:  2610.352277994156\n",
      "Score:  1.91307663828\n",
      "====================================\n",
      "Parameters:  {'eta': 0.15000000000000002, 'eval_metric': 'mlogloss', 'max_depth': 2, 'num_class': 38, 'objective': 'multi:softprob'}\n",
      "model starts\n",
      "[0]\ttrain-mlogloss:2.80307\teval-mlogloss:2.80193\n",
      "Multiple eval metrics have been passed: 'eval-mlogloss' will be used for early stopping.\n",
      "\n",
      "Will train until eval-mlogloss hasn't improved in 10 rounds.\n",
      "[1]\ttrain-mlogloss:2.59543\teval-mlogloss:2.59524\n",
      "[2]\ttrain-mlogloss:2.45105\teval-mlogloss:2.45051\n",
      "[3]\ttrain-mlogloss:2.34193\teval-mlogloss:2.34129\n",
      "[4]\ttrain-mlogloss:2.25507\teval-mlogloss:2.25438\n",
      "[5]\ttrain-mlogloss:2.18366\teval-mlogloss:2.1829\n",
      "[6]\ttrain-mlogloss:2.12406\teval-mlogloss:2.12327\n",
      "[7]\ttrain-mlogloss:2.07317\teval-mlogloss:2.0723\n",
      "[8]\ttrain-mlogloss:2.02865\teval-mlogloss:2.02764\n",
      "[9]\ttrain-mlogloss:1.99025\teval-mlogloss:1.9891\n",
      "[10]\ttrain-mlogloss:1.95661\teval-mlogloss:1.95535\n",
      "[11]\ttrain-mlogloss:1.92746\teval-mlogloss:1.92633\n",
      "[12]\ttrain-mlogloss:1.90194\teval-mlogloss:1.90072\n",
      "[13]\ttrain-mlogloss:1.87918\teval-mlogloss:1.87804\n",
      "[14]\ttrain-mlogloss:1.85843\teval-mlogloss:1.85729\n",
      "[15]\ttrain-mlogloss:1.84031\teval-mlogloss:1.8392\n",
      "[16]\ttrain-mlogloss:1.82333\teval-mlogloss:1.82217\n",
      "[17]\ttrain-mlogloss:1.80822\teval-mlogloss:1.80708\n",
      "[18]\ttrain-mlogloss:1.79445\teval-mlogloss:1.79329\n",
      "[19]\ttrain-mlogloss:1.78178\teval-mlogloss:1.7806\n",
      "Time pass:  2612.88907122612\n",
      "Score:  1.78059725201\n",
      "====================================\n",
      "Parameters:  {'eta': 0.1, 'eval_metric': 'mlogloss', 'max_depth': 4, 'num_class': 38, 'objective': 'multi:softprob'}\n",
      "model starts\n",
      "[0]\ttrain-mlogloss:2.97735\teval-mlogloss:2.97801\n",
      "Multiple eval metrics have been passed: 'eval-mlogloss' will be used for early stopping.\n",
      "\n",
      "Will train until eval-mlogloss hasn't improved in 10 rounds.\n",
      "[1]\ttrain-mlogloss:2.7531\teval-mlogloss:2.75408\n",
      "[2]\ttrain-mlogloss:2.59644\teval-mlogloss:2.5978\n",
      "[3]\ttrain-mlogloss:2.47493\teval-mlogloss:2.47627\n",
      "[4]\ttrain-mlogloss:2.37624\teval-mlogloss:2.37788\n",
      "[5]\ttrain-mlogloss:2.29361\teval-mlogloss:2.29548\n",
      "[6]\ttrain-mlogloss:2.22315\teval-mlogloss:2.2252\n",
      "[7]\ttrain-mlogloss:2.16193\teval-mlogloss:2.16402\n",
      "[8]\ttrain-mlogloss:2.10843\teval-mlogloss:2.11071\n",
      "[9]\ttrain-mlogloss:2.06103\teval-mlogloss:2.06342\n",
      "[10]\ttrain-mlogloss:2.01884\teval-mlogloss:2.02135\n",
      "[11]\ttrain-mlogloss:1.98111\teval-mlogloss:1.98366\n",
      "[12]\ttrain-mlogloss:1.9474\teval-mlogloss:1.95004\n",
      "[13]\ttrain-mlogloss:1.91669\teval-mlogloss:1.91934\n",
      "[14]\ttrain-mlogloss:1.88893\teval-mlogloss:1.89165\n",
      "[15]\ttrain-mlogloss:1.86343\teval-mlogloss:1.86623\n",
      "[16]\ttrain-mlogloss:1.84005\teval-mlogloss:1.84289\n",
      "[17]\ttrain-mlogloss:1.81883\teval-mlogloss:1.8217\n",
      "[18]\ttrain-mlogloss:1.79942\teval-mlogloss:1.80239\n",
      "[19]\ttrain-mlogloss:1.7817\teval-mlogloss:1.78469\n",
      "Time pass:  3111.4506702423096\n",
      "Score:  1.78468803925\n",
      "====================================\n",
      "Parameters:  {'eta': 0.15000000000000002, 'eval_metric': 'mlogloss', 'max_depth': 1, 'num_class': 38, 'objective': 'multi:softprob'}\n",
      "model starts\n",
      "[0]\ttrain-mlogloss:2.93667\teval-mlogloss:2.93559\n",
      "Multiple eval metrics have been passed: 'eval-mlogloss' will be used for early stopping.\n",
      "\n",
      "Will train until eval-mlogloss hasn't improved in 10 rounds.\n",
      "[1]\ttrain-mlogloss:2.74657\teval-mlogloss:2.74507\n",
      "[2]\ttrain-mlogloss:2.61051\teval-mlogloss:2.60914\n",
      "[3]\ttrain-mlogloss:2.50652\teval-mlogloss:2.50497\n",
      "[4]\ttrain-mlogloss:2.4215\teval-mlogloss:2.42032\n",
      "[5]\ttrain-mlogloss:2.35139\teval-mlogloss:2.35006\n",
      "[6]\ttrain-mlogloss:2.29195\teval-mlogloss:2.29042\n",
      "[7]\ttrain-mlogloss:2.24076\teval-mlogloss:2.23918\n",
      "[8]\ttrain-mlogloss:2.19639\teval-mlogloss:2.19451\n",
      "[9]\ttrain-mlogloss:2.1573\teval-mlogloss:2.15539\n",
      "[10]\ttrain-mlogloss:2.12289\teval-mlogloss:2.12097\n",
      "[11]\ttrain-mlogloss:2.09255\teval-mlogloss:2.09068\n",
      "[12]\ttrain-mlogloss:2.06531\teval-mlogloss:2.06346\n",
      "[13]\ttrain-mlogloss:2.04102\teval-mlogloss:2.03906\n",
      "[14]\ttrain-mlogloss:2.01894\teval-mlogloss:2.01693\n",
      "[15]\ttrain-mlogloss:1.99912\teval-mlogloss:1.99713\n",
      "[16]\ttrain-mlogloss:1.98117\teval-mlogloss:1.97919\n",
      "[17]\ttrain-mlogloss:1.96477\teval-mlogloss:1.9628\n",
      "[18]\ttrain-mlogloss:1.94991\teval-mlogloss:1.94802\n",
      "[19]\ttrain-mlogloss:1.93625\teval-mlogloss:1.93424\n",
      "Time pass:  2372.7208619117737\n",
      "Score:  1.93423791932\n",
      "====================================\n",
      "Parameters:  {'eta': 0.2, 'eval_metric': 'mlogloss', 'max_depth': 2, 'num_class': 38, 'objective': 'multi:softprob'}\n",
      "model starts\n",
      "[0]\ttrain-mlogloss:2.57943\teval-mlogloss:2.5778\n",
      "Multiple eval metrics have been passed: 'eval-mlogloss' will be used for early stopping.\n",
      "\n",
      "Will train until eval-mlogloss hasn't improved in 10 rounds.\n",
      "[1]\ttrain-mlogloss:2.38534\teval-mlogloss:2.38498\n",
      "[2]\ttrain-mlogloss:2.25684\teval-mlogloss:2.25616\n",
      "[3]\ttrain-mlogloss:2.16144\teval-mlogloss:2.16065\n",
      "[4]\ttrain-mlogloss:2.08629\teval-mlogloss:2.08547\n",
      "[5]\ttrain-mlogloss:2.02615\teval-mlogloss:2.02517\n",
      "[6]\ttrain-mlogloss:1.97545\teval-mlogloss:1.97452\n",
      "[7]\ttrain-mlogloss:1.9338\teval-mlogloss:1.93283\n",
      "[8]\ttrain-mlogloss:1.89851\teval-mlogloss:1.89749\n",
      "[9]\ttrain-mlogloss:1.86836\teval-mlogloss:1.86749\n",
      "[10]\ttrain-mlogloss:1.8429\teval-mlogloss:1.84203\n",
      "[11]\ttrain-mlogloss:1.82006\teval-mlogloss:1.81908\n",
      "[12]\ttrain-mlogloss:1.80068\teval-mlogloss:1.79966\n",
      "[13]\ttrain-mlogloss:1.78325\teval-mlogloss:1.78217\n",
      "[14]\ttrain-mlogloss:1.7676\teval-mlogloss:1.76645\n",
      "[15]\ttrain-mlogloss:1.75418\teval-mlogloss:1.75304\n",
      "[16]\ttrain-mlogloss:1.74212\teval-mlogloss:1.74093\n",
      "[17]\ttrain-mlogloss:1.73065\teval-mlogloss:1.72952\n",
      "[18]\ttrain-mlogloss:1.72095\teval-mlogloss:1.71983\n",
      "[19]\ttrain-mlogloss:1.71187\teval-mlogloss:1.71067\n",
      "Time pass:  2610.7146270275116\n",
      "Score:  1.71066925291\n",
      "====================================\n",
      "Parameters:  {'eta': 0.35000000000000003, 'eval_metric': 'mlogloss', 'max_depth': 1, 'num_class': 38, 'objective': 'multi:softprob'}\n",
      "model starts\n",
      "[0]\ttrain-mlogloss:2.42006\teval-mlogloss:2.41758\n",
      "Multiple eval metrics have been passed: 'eval-mlogloss' will be used for early stopping.\n",
      "\n",
      "Will train until eval-mlogloss hasn't improved in 10 rounds.\n",
      "[1]\ttrain-mlogloss:2.19117\teval-mlogloss:2.18899\n",
      "[2]\ttrain-mlogloss:2.08135\teval-mlogloss:2.08035\n",
      "[3]\ttrain-mlogloss:2.0044\teval-mlogloss:2.00373\n",
      "[4]\ttrain-mlogloss:1.95048\teval-mlogloss:1.94996\n",
      "[5]\ttrain-mlogloss:1.9116\teval-mlogloss:1.9108\n",
      "[6]\ttrain-mlogloss:1.88087\teval-mlogloss:1.87998\n",
      "[7]\ttrain-mlogloss:1.85669\teval-mlogloss:1.85575\n",
      "[8]\ttrain-mlogloss:1.83731\teval-mlogloss:1.83624\n",
      "[9]\ttrain-mlogloss:1.82123\teval-mlogloss:1.81997\n",
      "[10]\ttrain-mlogloss:1.80744\teval-mlogloss:1.80591\n",
      "[11]\ttrain-mlogloss:1.79569\teval-mlogloss:1.79419\n",
      "[12]\ttrain-mlogloss:1.78525\teval-mlogloss:1.78373\n",
      "[13]\ttrain-mlogloss:1.77597\teval-mlogloss:1.7744\n",
      "[14]\ttrain-mlogloss:1.76772\teval-mlogloss:1.76618\n",
      "[15]\ttrain-mlogloss:1.76028\teval-mlogloss:1.75856\n",
      "[16]\ttrain-mlogloss:1.75348\teval-mlogloss:1.75174\n",
      "[17]\ttrain-mlogloss:1.74728\teval-mlogloss:1.74552\n",
      "[18]\ttrain-mlogloss:1.74157\teval-mlogloss:1.7398\n",
      "[19]\ttrain-mlogloss:1.73636\teval-mlogloss:1.73458\n",
      "Time pass:  2374.0954959392548\n",
      "Score:  1.73457968448\n",
      "====================================\n",
      "Parameters:  {'eta': 0.25, 'eval_metric': 'mlogloss', 'max_depth': 1, 'num_class': 38, 'objective': 'multi:softprob'}\n",
      "model starts\n",
      "[0]\ttrain-mlogloss:2.59246\teval-mlogloss:2.59065\n",
      "Multiple eval metrics have been passed: 'eval-mlogloss' will be used for early stopping.\n",
      "\n",
      "Will train until eval-mlogloss hasn't improved in 10 rounds.\n",
      "[1]\ttrain-mlogloss:2.39805\teval-mlogloss:2.39594\n",
      "[2]\ttrain-mlogloss:2.28132\teval-mlogloss:2.28009\n",
      "[3]\ttrain-mlogloss:2.19227\teval-mlogloss:2.19074\n",
      "[4]\ttrain-mlogloss:2.12458\teval-mlogloss:2.12335\n",
      "[5]\ttrain-mlogloss:2.07122\teval-mlogloss:2.06969\n",
      "[6]\ttrain-mlogloss:2.02761\teval-mlogloss:2.02596\n",
      "[7]\ttrain-mlogloss:1.99145\teval-mlogloss:1.98971\n",
      "[8]\ttrain-mlogloss:1.96113\teval-mlogloss:1.95938\n",
      "[9]\ttrain-mlogloss:1.93571\teval-mlogloss:1.93394\n",
      "[10]\ttrain-mlogloss:1.91373\teval-mlogloss:1.91172\n",
      "[11]\ttrain-mlogloss:1.89486\teval-mlogloss:1.89302\n",
      "[12]\ttrain-mlogloss:1.87823\teval-mlogloss:1.87644\n",
      "[13]\ttrain-mlogloss:1.86367\teval-mlogloss:1.86184\n",
      "[14]\ttrain-mlogloss:1.85081\teval-mlogloss:1.849\n",
      "[15]\ttrain-mlogloss:1.83927\teval-mlogloss:1.83743\n",
      "[16]\ttrain-mlogloss:1.82881\teval-mlogloss:1.82684\n",
      "[17]\ttrain-mlogloss:1.81934\teval-mlogloss:1.81729\n",
      "[18]\ttrain-mlogloss:1.81069\teval-mlogloss:1.80881\n",
      "[19]\ttrain-mlogloss:1.80282\teval-mlogloss:1.80082\n",
      "Time pass:  2371.7861819267273\n",
      "Score:  1.80081702548\n",
      "====================================\n",
      "Parameters:  {'eta': 0.15000000000000002, 'eval_metric': 'mlogloss', 'max_depth': 3, 'num_class': 38, 'objective': 'multi:softprob'}\n",
      "model starts\n",
      "[0]\ttrain-mlogloss:2.7294\teval-mlogloss:2.72923\n",
      "Multiple eval metrics have been passed: 'eval-mlogloss' will be used for early stopping.\n",
      "\n",
      "Will train until eval-mlogloss hasn't improved in 10 rounds.\n",
      "[1]\ttrain-mlogloss:2.51863\teval-mlogloss:2.51849\n",
      "[2]\ttrain-mlogloss:2.37428\teval-mlogloss:2.37414\n",
      "[3]\ttrain-mlogloss:2.26358\teval-mlogloss:2.26367\n",
      "[4]\ttrain-mlogloss:2.17543\teval-mlogloss:2.17554\n",
      "[5]\ttrain-mlogloss:2.10289\teval-mlogloss:2.10312\n",
      "[6]\ttrain-mlogloss:2.0422\teval-mlogloss:2.04248\n",
      "[7]\ttrain-mlogloss:1.99125\teval-mlogloss:1.99147\n",
      "[8]\ttrain-mlogloss:1.94736\teval-mlogloss:1.94762\n",
      "[9]\ttrain-mlogloss:1.90925\teval-mlogloss:1.90966\n",
      "[10]\ttrain-mlogloss:1.87645\teval-mlogloss:1.8769\n",
      "[11]\ttrain-mlogloss:1.84744\teval-mlogloss:1.84781\n",
      "[12]\ttrain-mlogloss:1.82197\teval-mlogloss:1.82239\n",
      "[13]\ttrain-mlogloss:1.79961\teval-mlogloss:1.80005\n",
      "[14]\ttrain-mlogloss:1.7793\teval-mlogloss:1.77976\n",
      "[15]\ttrain-mlogloss:1.76129\teval-mlogloss:1.7617\n",
      "[16]\ttrain-mlogloss:1.74541\teval-mlogloss:1.74582\n",
      "[17]\ttrain-mlogloss:1.73078\teval-mlogloss:1.73142\n",
      "[18]\ttrain-mlogloss:1.71745\teval-mlogloss:1.71813\n",
      "[19]\ttrain-mlogloss:1.70551\teval-mlogloss:1.70624\n",
      "Time pass:  2861.28062915802\n",
      "Score:  1.70624347363\n",
      "====================================\n",
      "Parameters:  {'eta': 0.15000000000000002, 'eval_metric': 'mlogloss', 'max_depth': 2, 'num_class': 38, 'objective': 'multi:softprob'}\n",
      "model starts\n",
      "[0]\ttrain-mlogloss:2.80307\teval-mlogloss:2.80193\n",
      "Multiple eval metrics have been passed: 'eval-mlogloss' will be used for early stopping.\n",
      "\n",
      "Will train until eval-mlogloss hasn't improved in 10 rounds.\n",
      "[1]\ttrain-mlogloss:2.59543\teval-mlogloss:2.59524\n",
      "[2]\ttrain-mlogloss:2.45105\teval-mlogloss:2.45051\n",
      "[3]\ttrain-mlogloss:2.34193\teval-mlogloss:2.34129\n",
      "[4]\ttrain-mlogloss:2.25507\teval-mlogloss:2.25438\n",
      "[5]\ttrain-mlogloss:2.18366\teval-mlogloss:2.1829\n",
      "[6]\ttrain-mlogloss:2.12406\teval-mlogloss:2.12327\n",
      "[7]\ttrain-mlogloss:2.07317\teval-mlogloss:2.0723\n",
      "[8]\ttrain-mlogloss:2.02865\teval-mlogloss:2.02764\n",
      "[9]\ttrain-mlogloss:1.99025\teval-mlogloss:1.9891\n",
      "[10]\ttrain-mlogloss:1.95661\teval-mlogloss:1.95535\n",
      "[11]\ttrain-mlogloss:1.92746\teval-mlogloss:1.92633\n",
      "[12]\ttrain-mlogloss:1.90194\teval-mlogloss:1.90072\n",
      "[13]\ttrain-mlogloss:1.87918\teval-mlogloss:1.87804\n",
      "[14]\ttrain-mlogloss:1.85843\teval-mlogloss:1.85729\n",
      "[15]\ttrain-mlogloss:1.84031\teval-mlogloss:1.8392\n",
      "[16]\ttrain-mlogloss:1.82333\teval-mlogloss:1.82217\n",
      "[17]\ttrain-mlogloss:1.80822\teval-mlogloss:1.80708\n",
      "[18]\ttrain-mlogloss:1.79445\teval-mlogloss:1.79329\n",
      "[19]\ttrain-mlogloss:1.78178\teval-mlogloss:1.7806\n",
      "Time pass:  2664.299304962158\n",
      "Score:  1.78059725201\n",
      "====================================\n",
      "Parameters:  {'eta': 0.1, 'eval_metric': 'mlogloss', 'max_depth': 3, 'num_class': 38, 'objective': 'multi:softprob'}\n",
      "model starts\n",
      "[0]\ttrain-mlogloss:3.00997\teval-mlogloss:3.00986\n",
      "Multiple eval metrics have been passed: 'eval-mlogloss' will be used for early stopping.\n",
      "\n",
      "Will train until eval-mlogloss hasn't improved in 10 rounds.\n",
      "[1]\ttrain-mlogloss:2.78842\teval-mlogloss:2.78783\n",
      "[2]\ttrain-mlogloss:2.63503\teval-mlogloss:2.63451\n",
      "[3]\ttrain-mlogloss:2.5161\teval-mlogloss:2.51593\n",
      "[4]\ttrain-mlogloss:2.41933\teval-mlogloss:2.41904\n",
      "[5]\ttrain-mlogloss:2.33825\teval-mlogloss:2.33793\n",
      "[6]\ttrain-mlogloss:2.26884\teval-mlogloss:2.26867\n",
      "[7]\ttrain-mlogloss:2.20858\teval-mlogloss:2.20844\n",
      "[8]\ttrain-mlogloss:2.1561\teval-mlogloss:2.15617\n",
      "[9]\ttrain-mlogloss:2.10948\teval-mlogloss:2.10953\n",
      "[10]\ttrain-mlogloss:2.06817\teval-mlogloss:2.06824\n",
      "[11]\ttrain-mlogloss:2.03089\teval-mlogloss:2.0308\n",
      "[12]\ttrain-mlogloss:1.99758\teval-mlogloss:1.99756\n",
      "[13]\ttrain-mlogloss:1.96768\teval-mlogloss:1.96759\n",
      "[14]\ttrain-mlogloss:1.94067\teval-mlogloss:1.94069\n",
      "[15]\ttrain-mlogloss:1.91548\teval-mlogloss:1.91549\n",
      "[16]\ttrain-mlogloss:1.893\teval-mlogloss:1.89303\n",
      "[17]\ttrain-mlogloss:1.87214\teval-mlogloss:1.87209\n",
      "[18]\ttrain-mlogloss:1.85285\teval-mlogloss:1.85285\n",
      "[19]\ttrain-mlogloss:1.83542\teval-mlogloss:1.83539\n",
      "Time pass:  2870.7827591896057\n",
      "Score:  1.83538501601\n",
      "====================================\n",
      "Parameters:  {'eta': 0.25, 'eval_metric': 'mlogloss', 'max_depth': 4, 'num_class': 38, 'objective': 'multi:softprob'}\n",
      "model starts\n",
      "[0]\ttrain-mlogloss:2.24141\teval-mlogloss:2.24289\n",
      "Multiple eval metrics have been passed: 'eval-mlogloss' will be used for early stopping.\n",
      "\n",
      "Will train until eval-mlogloss hasn't improved in 10 rounds.\n",
      "[1]\ttrain-mlogloss:2.07344\teval-mlogloss:2.07524\n",
      "[2]\ttrain-mlogloss:1.96388\teval-mlogloss:1.96582\n",
      "[3]\ttrain-mlogloss:1.8845\teval-mlogloss:1.88685\n",
      "[4]\ttrain-mlogloss:1.82392\teval-mlogloss:1.82648\n",
      "[5]\ttrain-mlogloss:1.77583\teval-mlogloss:1.77858\n",
      "[6]\ttrain-mlogloss:1.73772\teval-mlogloss:1.74073\n",
      "[7]\ttrain-mlogloss:1.70628\teval-mlogloss:1.70952\n",
      "[8]\ttrain-mlogloss:1.67988\teval-mlogloss:1.68348\n",
      "[9]\ttrain-mlogloss:1.65753\teval-mlogloss:1.66151\n",
      "[10]\ttrain-mlogloss:1.63776\teval-mlogloss:1.64202\n",
      "[11]\ttrain-mlogloss:1.62147\teval-mlogloss:1.62593\n",
      "[12]\ttrain-mlogloss:1.60637\teval-mlogloss:1.61085\n",
      "[13]\ttrain-mlogloss:1.59349\teval-mlogloss:1.59809\n",
      "[14]\ttrain-mlogloss:1.58213\teval-mlogloss:1.5871\n",
      "[15]\ttrain-mlogloss:1.57157\teval-mlogloss:1.57689\n",
      "[16]\ttrain-mlogloss:1.56137\teval-mlogloss:1.56701\n",
      "[17]\ttrain-mlogloss:1.55173\teval-mlogloss:1.55784\n",
      "[18]\ttrain-mlogloss:1.54355\teval-mlogloss:1.54992\n",
      "[19]\ttrain-mlogloss:1.53568\teval-mlogloss:1.54253\n",
      "Time pass:  3133.3636980056763\n",
      "Score:  1.54253273478\n",
      "====================================\n",
      "Parameters:  {'eta': 0.2, 'eval_metric': 'mlogloss', 'max_depth': 3, 'num_class': 38, 'objective': 'multi:softprob'}\n",
      "model starts\n",
      "[0]\ttrain-mlogloss:2.48914\teval-mlogloss:2.48889\n",
      "Multiple eval metrics have been passed: 'eval-mlogloss' will be used for early stopping.\n",
      "\n",
      "Will train until eval-mlogloss hasn't improved in 10 rounds.\n",
      "[1]\ttrain-mlogloss:2.29764\teval-mlogloss:2.29738\n",
      "[2]\ttrain-mlogloss:2.1713\teval-mlogloss:2.17106\n",
      "[3]\ttrain-mlogloss:2.07639\teval-mlogloss:2.07668\n",
      "[4]\ttrain-mlogloss:2.00178\teval-mlogloss:2.00197\n",
      "[5]\ttrain-mlogloss:1.94163\teval-mlogloss:1.94182\n",
      "[6]\ttrain-mlogloss:1.89248\teval-mlogloss:1.89273\n",
      "[7]\ttrain-mlogloss:1.85154\teval-mlogloss:1.85183\n",
      "[8]\ttrain-mlogloss:1.81757\teval-mlogloss:1.81786\n",
      "[9]\ttrain-mlogloss:1.7887\teval-mlogloss:1.78892\n",
      "[10]\ttrain-mlogloss:1.76399\teval-mlogloss:1.76432\n",
      "[11]\ttrain-mlogloss:1.74231\teval-mlogloss:1.74271\n",
      "[12]\ttrain-mlogloss:1.72275\teval-mlogloss:1.72333\n",
      "[13]\ttrain-mlogloss:1.70623\teval-mlogloss:1.70689\n",
      "[14]\ttrain-mlogloss:1.69167\teval-mlogloss:1.6925\n",
      "[15]\ttrain-mlogloss:1.67848\teval-mlogloss:1.67927\n",
      "[16]\ttrain-mlogloss:1.66689\teval-mlogloss:1.66777\n",
      "[17]\ttrain-mlogloss:1.65609\teval-mlogloss:1.65711\n",
      "[18]\ttrain-mlogloss:1.64638\teval-mlogloss:1.64766\n",
      "[19]\ttrain-mlogloss:1.63782\teval-mlogloss:1.63927\n",
      "Time pass:  2874.7049791812897\n",
      "Score:  1.63926660428\n",
      "====================================\n",
      "Parameters:  {'eta': 0.30000000000000004, 'eval_metric': 'mlogloss', 'max_depth': 2, 'num_class': 38, 'objective': 'multi:softprob'}\n",
      "model starts\n",
      "[0]\ttrain-mlogloss:2.28015\teval-mlogloss:2.27731\n",
      "Multiple eval metrics have been passed: 'eval-mlogloss' will be used for early stopping.\n",
      "\n",
      "Will train until eval-mlogloss hasn't improved in 10 rounds.\n",
      "[1]\ttrain-mlogloss:2.10677\teval-mlogloss:2.1061\n",
      "[2]\ttrain-mlogloss:2.00069\teval-mlogloss:1.99996\n",
      "[3]\ttrain-mlogloss:1.9296\teval-mlogloss:1.92883\n",
      "[4]\ttrain-mlogloss:1.87681\teval-mlogloss:1.87591\n",
      "[5]\ttrain-mlogloss:1.83515\teval-mlogloss:1.83447\n",
      "[6]\ttrain-mlogloss:1.80281\teval-mlogloss:1.80213\n",
      "[7]\ttrain-mlogloss:1.77678\teval-mlogloss:1.77622\n",
      "[8]\ttrain-mlogloss:1.75486\teval-mlogloss:1.7542\n",
      "[9]\ttrain-mlogloss:1.73678\teval-mlogloss:1.73619\n",
      "[10]\ttrain-mlogloss:1.72137\teval-mlogloss:1.72097\n",
      "[11]\ttrain-mlogloss:1.70794\teval-mlogloss:1.70766\n",
      "[12]\ttrain-mlogloss:1.69629\teval-mlogloss:1.69623\n",
      "[13]\ttrain-mlogloss:1.68645\teval-mlogloss:1.68632\n",
      "[14]\ttrain-mlogloss:1.67695\teval-mlogloss:1.67686\n",
      "[15]\ttrain-mlogloss:1.66915\teval-mlogloss:1.66902\n",
      "[16]\ttrain-mlogloss:1.66135\teval-mlogloss:1.66107\n",
      "[17]\ttrain-mlogloss:1.65486\teval-mlogloss:1.65458\n",
      "[18]\ttrain-mlogloss:1.64914\teval-mlogloss:1.64909\n",
      "[19]\ttrain-mlogloss:1.64382\teval-mlogloss:1.64385\n",
      "Time pass:  2650.7664692401886\n",
      "Score:  1.64384878641\n",
      "====================================\n",
      "Parameters:  {'eta': 0.35000000000000003, 'eval_metric': 'mlogloss', 'max_depth': 2, 'num_class': 38, 'objective': 'multi:softprob'}\n",
      "model starts\n",
      "[0]\ttrain-mlogloss:2.20814\teval-mlogloss:2.20464\n",
      "Multiple eval metrics have been passed: 'eval-mlogloss' will be used for early stopping.\n",
      "\n",
      "Will train until eval-mlogloss hasn't improved in 10 rounds.\n",
      "[1]\ttrain-mlogloss:2.02536\teval-mlogloss:2.02491\n",
      "[2]\ttrain-mlogloss:1.92553\teval-mlogloss:1.92494\n",
      "[3]\ttrain-mlogloss:1.86317\teval-mlogloss:1.86275\n",
      "[4]\ttrain-mlogloss:1.81957\teval-mlogloss:1.81935\n",
      "[5]\ttrain-mlogloss:1.78517\teval-mlogloss:1.78495\n",
      "[6]\ttrain-mlogloss:1.7592\teval-mlogloss:1.75904\n",
      "[7]\ttrain-mlogloss:1.7376\teval-mlogloss:1.73726\n",
      "[8]\ttrain-mlogloss:1.72035\teval-mlogloss:1.7203\n",
      "[9]\ttrain-mlogloss:1.70465\teval-mlogloss:1.70481\n",
      "[10]\ttrain-mlogloss:1.69219\teval-mlogloss:1.69249\n",
      "[11]\ttrain-mlogloss:1.68135\teval-mlogloss:1.68152\n",
      "[12]\ttrain-mlogloss:1.67252\teval-mlogloss:1.67273\n",
      "[13]\ttrain-mlogloss:1.66393\teval-mlogloss:1.66387\n",
      "[14]\ttrain-mlogloss:1.65615\teval-mlogloss:1.65613\n",
      "[15]\ttrain-mlogloss:1.64869\teval-mlogloss:1.64882\n",
      "[16]\ttrain-mlogloss:1.64274\teval-mlogloss:1.64301\n",
      "[17]\ttrain-mlogloss:1.63716\teval-mlogloss:1.63766\n",
      "[18]\ttrain-mlogloss:1.63192\teval-mlogloss:1.6326\n",
      "[19]\ttrain-mlogloss:1.62735\teval-mlogloss:1.6281\n",
      "Time pass:  2631.7882928848267\n",
      "Score:  1.62809721004\n",
      "====================================\n",
      "Parameters:  {'eta': 0.2, 'eval_metric': 'mlogloss', 'max_depth': 1, 'num_class': 38, 'objective': 'multi:softprob'}\n",
      "model starts\n",
      "[0]\ttrain-mlogloss:2.74578\teval-mlogloss:2.74433\n",
      "Multiple eval metrics have been passed: 'eval-mlogloss' will be used for early stopping.\n",
      "\n",
      "Will train until eval-mlogloss hasn't improved in 10 rounds.\n",
      "[1]\ttrain-mlogloss:2.55559\teval-mlogloss:2.55379\n",
      "[2]\ttrain-mlogloss:2.42918\teval-mlogloss:2.42738\n",
      "[3]\ttrain-mlogloss:2.33073\teval-mlogloss:2.32934\n",
      "[4]\ttrain-mlogloss:2.2546\teval-mlogloss:2.25331\n",
      "[5]\ttrain-mlogloss:2.19183\teval-mlogloss:2.19033\n",
      "[6]\ttrain-mlogloss:2.14004\teval-mlogloss:2.13832\n",
      "[7]\ttrain-mlogloss:2.09643\teval-mlogloss:2.09462\n",
      "[8]\ttrain-mlogloss:2.05919\teval-mlogloss:2.0574\n",
      "[9]\ttrain-mlogloss:2.02726\teval-mlogloss:2.02545\n",
      "[10]\ttrain-mlogloss:1.99939\teval-mlogloss:1.99749\n",
      "[11]\ttrain-mlogloss:1.97486\teval-mlogloss:1.97296\n",
      "[12]\ttrain-mlogloss:1.95351\teval-mlogloss:1.95163\n",
      "[13]\ttrain-mlogloss:1.93456\teval-mlogloss:1.93263\n",
      "[14]\ttrain-mlogloss:1.9177\teval-mlogloss:1.91579\n",
      "[15]\ttrain-mlogloss:1.90269\teval-mlogloss:1.90068\n",
      "[16]\ttrain-mlogloss:1.889\teval-mlogloss:1.88699\n",
      "[17]\ttrain-mlogloss:1.87684\teval-mlogloss:1.87487\n",
      "[18]\ttrain-mlogloss:1.86577\teval-mlogloss:1.86377\n",
      "[19]\ttrain-mlogloss:1.85554\teval-mlogloss:1.85362\n",
      "Time pass:  2422.6136021614075\n",
      "Score:  1.85361830752\n",
      "====================================\n",
      "Parameters:  {'eta': 0.30000000000000004, 'eval_metric': 'mlogloss', 'max_depth': 4, 'num_class': 38, 'objective': 'multi:softprob'}\n",
      "model starts\n",
      "[0]\ttrain-mlogloss:2.11379\teval-mlogloss:2.11546\n",
      "Multiple eval metrics have been passed: 'eval-mlogloss' will be used for early stopping.\n",
      "\n",
      "Will train until eval-mlogloss hasn't improved in 10 rounds.\n",
      "[1]\ttrain-mlogloss:1.94828\teval-mlogloss:1.95019\n",
      "[2]\ttrain-mlogloss:1.85295\teval-mlogloss:1.85477\n",
      "[3]\ttrain-mlogloss:1.7885\teval-mlogloss:1.79089\n",
      "[4]\ttrain-mlogloss:1.73927\teval-mlogloss:1.74221\n",
      "[5]\ttrain-mlogloss:1.70121\teval-mlogloss:1.70466\n",
      "[6]\ttrain-mlogloss:1.67052\teval-mlogloss:1.67432\n",
      "[7]\ttrain-mlogloss:1.64453\teval-mlogloss:1.64879\n",
      "[8]\ttrain-mlogloss:1.62317\teval-mlogloss:1.62804\n",
      "[9]\ttrain-mlogloss:1.60439\teval-mlogloss:1.60936\n",
      "[10]\ttrain-mlogloss:1.58968\teval-mlogloss:1.59493\n",
      "[11]\ttrain-mlogloss:1.57587\teval-mlogloss:1.58145\n",
      "[12]\ttrain-mlogloss:1.56311\teval-mlogloss:1.56906\n"
     ]
    }
   ],
   "source": [
    "from hyperopt import fmin, tpe, hp, STATUS_OK \n",
    "# Define the hyperparameter space\n",
    "space = {'eta' : hp.quniform('eta', 0.05, 0.35, 0.05),\n",
    "    'max_depth' : hp.choice('max_depth', np.arange(1, 5, dtype=int)),\n",
    "    'num_class' : 38,\n",
    "    'eval_metric': 'mlogloss',\n",
    "    'objective': 'multi:softprob'}\n",
    "\n",
    "# Evaluate the function fmin over the hyperparameter space, and\n",
    "# print the best hyperparameters.  \n",
    "xgboost_best = fmin(xgboost_train, space=space, algo=tpe.suggest, max_evals = 100)\n",
    "print (\"==================best==================\")\n",
    "print (\"Optimal parameters for dtrain1 are: \", xgboost_best)"
   ]
  },
  {
   "cell_type": "code",
   "execution_count": 5,
   "metadata": {
    "collapsed": true
   },
   "outputs": [],
   "source": [
    "params = {'max_depth':1, \n",
    "          'eta':0.05,\n",
    "          'num_class' : 38,\n",
    "          'eval_metric': 'mlogloss',\n",
    "          'objective': 'multi:softprob'}"
   ]
  },
  {
   "cell_type": "code",
   "execution_count": null,
   "metadata": {
    "collapsed": true
   },
   "outputs": [],
   "source": []
  },
  {
   "cell_type": "code",
   "execution_count": 7,
   "metadata": {
    "collapsed": false
   },
   "outputs": [
    {
     "data": {
      "text/plain": [
       "1"
      ]
     },
     "execution_count": 7,
     "metadata": {},
     "output_type": "execute_result"
    }
   ],
   "source": [
    "params['max_depth']"
   ]
  },
  {
   "cell_type": "code",
   "execution_count": 6,
   "metadata": {
    "collapsed": false
   },
   "outputs": [
    {
     "name": "stdout",
     "output_type": "stream",
     "text": [
      "[0]\ttrain-mlogloss:3.39081\teval-mlogloss:3.39046\n",
      "[1]\ttrain-mlogloss:3.24364\teval-mlogloss:3.24309\n",
      "[2]\ttrain-mlogloss:3.13172\teval-mlogloss:3.13101\n",
      "[3]\ttrain-mlogloss:3.04041\teval-mlogloss:3.03966\n",
      "[4]\ttrain-mlogloss:2.9628\teval-mlogloss:2.96181\n",
      "[5]\ttrain-mlogloss:2.89512\teval-mlogloss:2.89399\n",
      "[6]\ttrain-mlogloss:2.83529\teval-mlogloss:2.8342\n",
      "[7]\ttrain-mlogloss:2.78137\teval-mlogloss:2.78018\n",
      "[8]\ttrain-mlogloss:2.73262\teval-mlogloss:2.73145\n",
      "[9]\ttrain-mlogloss:2.68788\teval-mlogloss:2.6866\n",
      "1246.0861339569092\n"
     ]
    }
   ],
   "source": [
    "import time\n",
    "start = time.time()\n",
    "params = {'max_depth':1, \n",
    "          'eta':0.05,\n",
    "          'num_class' : 38,\n",
    "          'eval_metric': 'mlogloss',\n",
    "          'objective': 'multi:softprob'}\n",
    "model = xgb.train(params=params, \n",
    "    dtrain=Dtrain, \n",
    "    num_boost_round=10,  \n",
    "#     early_stopping_rounds=10, \n",
    "    evals=evallist)\n",
    "score = log_loss(Dtest.get_label(), model.predict(Dtest))\n",
    "end = time.time()\n",
    "print(end - start)"
   ]
  },
  {
   "cell_type": "code",
   "execution_count": 6,
   "metadata": {
    "collapsed": true
   },
   "outputs": [],
   "source": [
    "model.save_model('Dataset/0416.model')"
   ]
  },
  {
   "cell_type": "code",
   "execution_count": 5,
   "metadata": {
    "collapsed": true
   },
   "outputs": [],
   "source": [
    "import pandas as pd"
   ]
  },
  {
   "cell_type": "code",
   "execution_count": 6,
   "metadata": {
    "collapsed": true
   },
   "outputs": [],
   "source": [
    "test = pd.read_csv('Dataset/real_test.csv',index_col = 0)"
   ]
  },
  {
   "cell_type": "code",
   "execution_count": 10,
   "metadata": {
    "collapsed": true
   },
   "outputs": [],
   "source": [
    "bst = xgb.Booster({'eta' : 0.3,\n",
    "    'max_depth' : 15,\n",
    "    'num_class' : 38,\n",
    "    'eval_metric': 'mlogloss',\n",
    "    'objective': 'multi:softprob'})"
   ]
  },
  {
   "cell_type": "code",
   "execution_count": 28,
   "metadata": {
    "collapsed": false
   },
   "outputs": [],
   "source": [
    "model = xgb.Booster(model_file='Dataset/04220.3_10.model')"
   ]
  },
  {
   "cell_type": "code",
   "execution_count": 29,
   "metadata": {
    "collapsed": false
   },
   "outputs": [
    {
     "data": {
      "text/plain": [
       "1.1356376590077499"
      ]
     },
     "execution_count": 29,
     "metadata": {},
     "output_type": "execute_result"
    }
   ],
   "source": [
    "log_loss(Dtest.get_label(), model.predict(Dtest))"
   ]
  },
  {
   "cell_type": "code",
   "execution_count": 30,
   "metadata": {
    "collapsed": true
   },
   "outputs": [],
   "source": [
    "real_test = xgb.DMatrix('Dataset/dtest.buffer')"
   ]
  },
  {
   "cell_type": "code",
   "execution_count": 31,
   "metadata": {
    "collapsed": true
   },
   "outputs": [],
   "source": [
    "predict_mat = model.predict(real_test)"
   ]
  },
  {
   "cell_type": "code",
   "execution_count": 32,
   "metadata": {
    "collapsed": false
   },
   "outputs": [
    {
     "data": {
      "text/plain": [
       "(653646, 38)"
      ]
     },
     "execution_count": 32,
     "metadata": {},
     "output_type": "execute_result"
    }
   ],
   "source": [
    "predict_mat.shape"
   ]
  },
  {
   "cell_type": "code",
   "execution_count": 33,
   "metadata": {
    "collapsed": false
   },
   "outputs": [
    {
     "name": "stdout",
     "output_type": "stream",
     "text": [
      "(653646, 39)\n"
     ]
    }
   ],
   "source": [
    "result = pd.DataFrame(predict_mat)\n",
    "dex = test.iloc[:,0]\n",
    "submurge = pd.concat([dex,result], axis = 1)\n",
    "print (submurge.shape)"
   ]
  },
  {
   "cell_type": "code",
   "execution_count": 34,
   "metadata": {
    "collapsed": false
   },
   "outputs": [],
   "source": [
    "avgmurg = submurge.groupby(submurge.VisitNumber).mean().reset_index()\n",
    "avgmurg.reset_index(drop = True, inplace = True)\n",
    "avgmurg.columns = ['VisitNumber', 'TripType_3','TripType_4','TripType_5','TripType_6','TripType_7',\\\n",
    "'TripType_8','TripType_9','TripType_12','TripType_14','TripType_15','TripType_18',\\\n",
    "'TripType_19','TripType_20','TripType_21','TripType_22','TripType_23','TripType_24',\\\n",
    "'TripType_25','TripType_26','TripType_27','TripType_28','TripType_29','TripType_30',\\\n",
    "'TripType_31','TripType_32','TripType_33','TripType_34','TripType_35','TripType_36',\\\n",
    "'TripType_37','TripType_38','TripType_39','TripType_40','TripType_41','TripType_42',\\\n",
    "'TripType_43','TripType_44','TripType_999']\n",
    "avgmurg[['VisitNumber']] = avgmurg[['VisitNumber']].astype(int)\n",
    "avgmurg.fillna(1/38, inplace=True )\n",
    "avgmurg.to_csv('KaggleSub_KNN.csv', index = False, header=True)"
   ]
  },
  {
   "cell_type": "code",
   "execution_count": 23,
   "metadata": {
    "collapsed": true
   },
   "outputs": [],
   "source": [
    "from sklearn.metrics import accuracy_score"
   ]
  },
  {
   "cell_type": "code",
   "execution_count": 26,
   "metadata": {
    "collapsed": true
   },
   "outputs": [],
   "source": [
    "a=[[1,2],[3,4]]"
   ]
  },
  {
   "cell_type": "code",
   "execution_count": 29,
   "metadata": {
    "collapsed": true
   },
   "outputs": [],
   "source": [
    "max_pos = np.argmax(model.predict(Dtest),axis=1)"
   ]
  },
  {
   "cell_type": "code",
   "execution_count": 30,
   "metadata": {
    "collapsed": false
   },
   "outputs": [
    {
     "data": {
      "text/plain": [
       "(129411,)"
      ]
     },
     "execution_count": 30,
     "metadata": {},
     "output_type": "execute_result"
    }
   ],
   "source": [
    "max_pos.shape"
   ]
  },
  {
   "cell_type": "code",
   "execution_count": 33,
   "metadata": {
    "collapsed": false
   },
   "outputs": [
    {
     "data": {
      "text/plain": [
       "0.56608016320096433"
      ]
     },
     "execution_count": 33,
     "metadata": {},
     "output_type": "execute_result"
    }
   ],
   "source": [
    "accuracy_score(Dtest.get_label(),max_pos)"
   ]
  },
  {
   "cell_type": "code",
   "execution_count": 34,
   "metadata": {
    "collapsed": false
   },
   "outputs": [
    {
     "ename": "AttributeError",
     "evalue": "module 'xgboost' has no attribute 'importance'",
     "output_type": "error",
     "traceback": [
      "\u001b[0;31m---------------------------------------------------------------------------\u001b[0m",
      "\u001b[0;31mAttributeError\u001b[0m                            Traceback (most recent call last)",
      "\u001b[0;32m<ipython-input-34-cf73a59ff4ae>\u001b[0m in \u001b[0;36m<module>\u001b[0;34m()\u001b[0m\n\u001b[0;32m----> 1\u001b[0;31m \u001b[0mxgb\u001b[0m\u001b[0;34m.\u001b[0m\u001b[0mimportance\u001b[0m\u001b[0;34m(\u001b[0m\u001b[0mfeature_names\u001b[0m \u001b[0;34m=\u001b[0m \u001b[0mNULL\u001b[0m\u001b[0;34m,\u001b[0m \u001b[0mmodel\u001b[0m \u001b[0;34m=\u001b[0m \u001b[0mmodel\u001b[0m\u001b[0;34m)\u001b[0m\u001b[0;34m\u001b[0m\u001b[0m\n\u001b[0m",
      "\u001b[0;31mAttributeError\u001b[0m: module 'xgboost' has no attribute 'importance'"
     ]
    }
   ],
   "source": [
    "xgb.importance(feature_names = NULL, model = model)"
   ]
  },
  {
   "cell_type": "code",
   "execution_count": 35,
   "metadata": {
    "collapsed": false
   },
   "outputs": [
    {
     "ename": "AttributeError",
     "evalue": "'Booster' object has no attribute 'feature_importances_'",
     "output_type": "error",
     "traceback": [
      "\u001b[0;31m---------------------------------------------------------------------------\u001b[0m",
      "\u001b[0;31mAttributeError\u001b[0m                            Traceback (most recent call last)",
      "\u001b[0;32m<ipython-input-35-24092b398aeb>\u001b[0m in \u001b[0;36m<module>\u001b[0;34m()\u001b[0m\n\u001b[0;32m----> 1\u001b[0;31m \u001b[0mprint\u001b[0m\u001b[0;34m(\u001b[0m\u001b[0mmodel\u001b[0m\u001b[0;34m.\u001b[0m\u001b[0mfeature_importances_\u001b[0m\u001b[0;34m)\u001b[0m\u001b[0;34m\u001b[0m\u001b[0m\n\u001b[0m",
      "\u001b[0;31mAttributeError\u001b[0m: 'Booster' object has no attribute 'feature_importances_'"
     ]
    }
   ],
   "source": [
    "print(model.feature_importances_)"
   ]
  },
  {
   "cell_type": "code",
   "execution_count": 37,
   "metadata": {
    "collapsed": false
   },
   "outputs": [],
   "source": [
    "features = model.get_fscore()"
   ]
  },
  {
   "cell_type": "code",
   "execution_count": 42,
   "metadata": {
    "collapsed": false,
    "scrolled": true
   },
   "outputs": [],
   "source": [
    "sort_features = sorted( ((features[k],k) for k in features), reverse=True)"
   ]
  },
  {
   "cell_type": "code",
   "execution_count": 43,
   "metadata": {
    "collapsed": false
   },
   "outputs": [
    {
     "data": {
      "text/plain": [
       "[(184, 'f6'),\n",
       " (133, 'f9'),\n",
       " (92, 'f8'),\n",
       " (90, 'f5'),\n",
       " (87, 'f4'),\n",
       " (40, 'f0'),\n",
       " (25, 'f35'),\n",
       " (21, 'f76'),\n",
       " (21, 'f74'),\n",
       " (21, 'f62'),\n",
       " (19, 'f7'),\n",
       " (19, 'f23'),\n",
       " (17, 'f29'),\n",
       " (16, 'f53'),\n",
       " (16, 'f31'),\n",
       " (16, 'f1'),\n",
       " (15, 'f72'),\n",
       " (15, 'f50'),\n",
       " (14, 'f67'),\n",
       " (14, 'f42'),\n",
       " (13, 'f64'),\n",
       " (13, 'f36'),\n",
       " (11, 'f77'),\n",
       " (11, 'f61'),\n",
       " (11, 'f55'),\n",
       " (11, 'f30'),\n",
       " (11, 'f13'),\n",
       " (10, 'f51'),\n",
       " (10, 'f43'),\n",
       " (9, 'f59'),\n",
       " (9, 'f40'),\n",
       " (8, 'f45'),\n",
       " (8, 'f44'),\n",
       " (7, 'f60'),\n",
       " (7, 'f41'),\n",
       " (7, 'f28'),\n",
       " (7, 'f22'),\n",
       " (7, 'f14'),\n",
       " (6, 'f54'),\n",
       " (6, 'f27'),\n",
       " (6, 'f26'),\n",
       " (6, 'f16'),\n",
       " (5, 'f48'),\n",
       " (5, 'f46'),\n",
       " (5, 'f39'),\n",
       " (5, 'f17'),\n",
       " (4, 'f12'),\n",
       " (3, 'f52'),\n",
       " (3, 'f34'),\n",
       " (2, 'f75'),\n",
       " (2, 'f71'),\n",
       " (2, 'f66'),\n",
       " (2, 'f38'),\n",
       " (2, 'f24'),\n",
       " (2, 'f19'),\n",
       " (2, 'f15'),\n",
       " (2, 'f11'),\n",
       " (1, 'f79'),\n",
       " (1, 'f73'),\n",
       " (1, 'f70'),\n",
       " (1, 'f68'),\n",
       " (1, 'f65'),\n",
       " (1, 'f63'),\n",
       " (1, 'f57'),\n",
       " (1, 'f56'),\n",
       " (1, 'f49'),\n",
       " (1, 'f47'),\n",
       " (1, 'f33'),\n",
       " (1, 'f32'),\n",
       " (1, 'f21'),\n",
       " (1, 'f20'),\n",
       " (1, 'f18')]"
      ]
     },
     "execution_count": 43,
     "metadata": {},
     "output_type": "execute_result"
    }
   ],
   "source": [
    "sort_features"
   ]
  },
  {
   "cell_type": "code",
   "execution_count": null,
   "metadata": {
    "collapsed": true
   },
   "outputs": [],
   "source": [
    "params = {'max_depth':2, \n",
    "          'eta':0.2,\n",
    "          'num_class' : 38,\n",
    "          'eval_metric': 'mlogloss',\n",
    "          'objective': 'multi:softprob'}\n",
    "model2 = xgb.train(params=params, \n",
    "    dtrain=Dtrain, \n",
    "    num_boost_round=500,  \n",
    "    early_stopping_rounds=10, \n",
    "    evals=evallist)\n",
    "score2 = log_loss(Dtest.get_label(), model2.predict(Dtest))"
   ]
  },
  {
   "cell_type": "code",
   "execution_count": null,
   "metadata": {
    "collapsed": true
   },
   "outputs": [],
   "source": []
  }
 ],
 "metadata": {
  "anaconda-cloud": {},
  "kernelspec": {
   "display_name": "cse6240",
   "language": "python",
   "name": "cse6240"
  },
  "language_info": {
   "codemirror_mode": {
    "name": "ipython",
    "version": 3
   },
   "file_extension": ".py",
   "mimetype": "text/x-python",
   "name": "python",
   "nbconvert_exporter": "python",
   "pygments_lexer": "ipython3",
   "version": "3.6.0"
  }
 },
 "nbformat": 4,
 "nbformat_minor": 1
}
